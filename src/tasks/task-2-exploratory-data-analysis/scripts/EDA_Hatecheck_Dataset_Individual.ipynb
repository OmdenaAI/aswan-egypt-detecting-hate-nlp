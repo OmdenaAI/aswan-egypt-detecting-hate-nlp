{
  "nbformat": 4,
  "nbformat_minor": 0,
  "metadata": {
    "colab": {
      "provenance": []
    },
    "kernelspec": {
      "name": "python3",
      "display_name": "Python 3"
    },
    "language_info": {
      "name": "python"
    }
  },
  "cells": [
    {
      "cell_type": "markdown",
      "source": [
        "**EDA** **for** **Individual** **Dataset**"
      ],
      "metadata": {
        "id": "BihO4Z5PkHgC"
      }
    },
    {
      "cell_type": "code",
      "source": [
        "import pandas as pd\n",
        "import numpy as np\n",
        "import seaborn as sns\n",
        "from collections import Counter\n",
        "from matplotlib import pyplot as plt\n",
        "from nltk.tokenize import word_tokenize\n",
        "from wordcloud import WordCloud"
      ],
      "metadata": {
        "id": "J0Kv1JYKkHLX"
      },
      "execution_count": null,
      "outputs": []
    },
    {
      "cell_type": "code",
      "source": [
        "df = pd.read_csv(\"/content/drive/MyDrive/Colab Notebooks/hatecheck-data-clean.txt\", sep=\",\")\n",
        "\n",
        "# Write the DataFrame to a CSV file\n",
        "df.to_csv(\"/content/drive/MyDrive/Colab Notebooks/hatecheck-data-clean.csv\", index=False)"
      ],
      "metadata": {
        "id": "pvovwPGWstIN"
      },
      "execution_count": null,
      "outputs": []
    },
    {
      "cell_type": "code",
      "execution_count": null,
      "metadata": {
        "colab": {
          "base_uri": "https://localhost:8080/",
          "height": 363
        },
        "id": "MjLncsy3kFtG",
        "outputId": "a3d43bf7-9050-49cf-ac2b-8d238a3bb73d"
      },
      "outputs": [
        {
          "output_type": "execute_result",
          "data": {
            "text/plain": [
              "         corpus_name                                       raw_sentence  \\\n",
              "2788  hatecheck-data  Calling Muslims cockroaches is such a horrible...   \n",
              "3654  hatecheck-data                    You are nothing but a s l u t.    \n",
              "816   hatecheck-data  It's in everybody's interest to just slaughter...   \n",
              "2672  hatecheck-data  I have no respect for people who write things ...   \n",
              "2231  hatecheck-data                     We are a group of immigrants.    \n",
              "643   hatecheck-data  We will keep attacking you immigrants until yo...   \n",
              "2627  hatecheck-data  You deserve to be in prison for threats like \"...   \n",
              "209   hatecheck-data  Immigrants with any power are a threat to civi...   \n",
              "3073  hatecheck-data         Labour organisers are subhuman creatures.    \n",
              "2961  hatecheck-data              What is it with these fucking sirens?   \n",
              "\n",
              "      label                            clean_sentence_training  \\\n",
              "2788      2        Calling Muslims cockroaches horrible thing    \n",
              "3654      2                                   You nothing l u    \n",
              "816       2  It s everybody s interest slaughter disabled p...   \n",
              "2672      2  I respect people write things like  many muzzi...   \n",
              "2231      2                               We group immigrants    \n",
              "643       2                 We keep attacking immigrants gone    \n",
              "2627      2  You deserve prison threats like  I ll rape bla...   \n",
              "209       2              Immigrants power threat civilisation    \n",
              "3073      2              Labour organisers subhuman creatures    \n",
              "2961      2                               What fucking sirens    \n",
              "\n",
              "                                     clean_sentence_EDA  \n",
              "2788        Calling Muslims cockroaches horrible thing   \n",
              "3654                                   You nothing l u   \n",
              "816   It s everybody s interest slaughter disabled p...  \n",
              "2672  I respect people write things like  many muzzi...  \n",
              "2231                               We group immigrants   \n",
              "643                  We keep attacking immigrants gone   \n",
              "2627  You deserve prison threats like  I ll rape bla...  \n",
              "209               Immigrants power threat civilisation   \n",
              "3073              Labour organisers subhuman creatures   \n",
              "2961                               What fucking sirens   "
            ],
            "text/html": [
              "\n",
              "  <div id=\"df-20927c49-3299-4d5e-95c5-8f7f5a8ce855\">\n",
              "    <div class=\"colab-df-container\">\n",
              "      <div>\n",
              "<style scoped>\n",
              "    .dataframe tbody tr th:only-of-type {\n",
              "        vertical-align: middle;\n",
              "    }\n",
              "\n",
              "    .dataframe tbody tr th {\n",
              "        vertical-align: top;\n",
              "    }\n",
              "\n",
              "    .dataframe thead th {\n",
              "        text-align: right;\n",
              "    }\n",
              "</style>\n",
              "<table border=\"1\" class=\"dataframe\">\n",
              "  <thead>\n",
              "    <tr style=\"text-align: right;\">\n",
              "      <th></th>\n",
              "      <th>corpus_name</th>\n",
              "      <th>raw_sentence</th>\n",
              "      <th>label</th>\n",
              "      <th>clean_sentence_training</th>\n",
              "      <th>clean_sentence_EDA</th>\n",
              "    </tr>\n",
              "  </thead>\n",
              "  <tbody>\n",
              "    <tr>\n",
              "      <th>2788</th>\n",
              "      <td>hatecheck-data</td>\n",
              "      <td>Calling Muslims cockroaches is such a horrible...</td>\n",
              "      <td>2</td>\n",
              "      <td>Calling Muslims cockroaches horrible thing</td>\n",
              "      <td>Calling Muslims cockroaches horrible thing</td>\n",
              "    </tr>\n",
              "    <tr>\n",
              "      <th>3654</th>\n",
              "      <td>hatecheck-data</td>\n",
              "      <td>You are nothing but a s l u t.</td>\n",
              "      <td>2</td>\n",
              "      <td>You nothing l u</td>\n",
              "      <td>You nothing l u</td>\n",
              "    </tr>\n",
              "    <tr>\n",
              "      <th>816</th>\n",
              "      <td>hatecheck-data</td>\n",
              "      <td>It's in everybody's interest to just slaughter...</td>\n",
              "      <td>2</td>\n",
              "      <td>It s everybody s interest slaughter disabled p...</td>\n",
              "      <td>It s everybody s interest slaughter disabled p...</td>\n",
              "    </tr>\n",
              "    <tr>\n",
              "      <th>2672</th>\n",
              "      <td>hatecheck-data</td>\n",
              "      <td>I have no respect for people who write things ...</td>\n",
              "      <td>2</td>\n",
              "      <td>I respect people write things like  many muzzi...</td>\n",
              "      <td>I respect people write things like  many muzzi...</td>\n",
              "    </tr>\n",
              "    <tr>\n",
              "      <th>2231</th>\n",
              "      <td>hatecheck-data</td>\n",
              "      <td>We are a group of immigrants.</td>\n",
              "      <td>2</td>\n",
              "      <td>We group immigrants</td>\n",
              "      <td>We group immigrants</td>\n",
              "    </tr>\n",
              "    <tr>\n",
              "      <th>643</th>\n",
              "      <td>hatecheck-data</td>\n",
              "      <td>We will keep attacking you immigrants until yo...</td>\n",
              "      <td>2</td>\n",
              "      <td>We keep attacking immigrants gone</td>\n",
              "      <td>We keep attacking immigrants gone</td>\n",
              "    </tr>\n",
              "    <tr>\n",
              "      <th>2627</th>\n",
              "      <td>hatecheck-data</td>\n",
              "      <td>You deserve to be in prison for threats like \"...</td>\n",
              "      <td>2</td>\n",
              "      <td>You deserve prison threats like  I ll rape bla...</td>\n",
              "      <td>You deserve prison threats like  I ll rape bla...</td>\n",
              "    </tr>\n",
              "    <tr>\n",
              "      <th>209</th>\n",
              "      <td>hatecheck-data</td>\n",
              "      <td>Immigrants with any power are a threat to civi...</td>\n",
              "      <td>2</td>\n",
              "      <td>Immigrants power threat civilisation</td>\n",
              "      <td>Immigrants power threat civilisation</td>\n",
              "    </tr>\n",
              "    <tr>\n",
              "      <th>3073</th>\n",
              "      <td>hatecheck-data</td>\n",
              "      <td>Labour organisers are subhuman creatures.</td>\n",
              "      <td>2</td>\n",
              "      <td>Labour organisers subhuman creatures</td>\n",
              "      <td>Labour organisers subhuman creatures</td>\n",
              "    </tr>\n",
              "    <tr>\n",
              "      <th>2961</th>\n",
              "      <td>hatecheck-data</td>\n",
              "      <td>What is it with these fucking sirens?</td>\n",
              "      <td>2</td>\n",
              "      <td>What fucking sirens</td>\n",
              "      <td>What fucking sirens</td>\n",
              "    </tr>\n",
              "  </tbody>\n",
              "</table>\n",
              "</div>\n",
              "      <button class=\"colab-df-convert\" onclick=\"convertToInteractive('df-20927c49-3299-4d5e-95c5-8f7f5a8ce855')\"\n",
              "              title=\"Convert this dataframe to an interactive table.\"\n",
              "              style=\"display:none;\">\n",
              "        \n",
              "  <svg xmlns=\"http://www.w3.org/2000/svg\" height=\"24px\"viewBox=\"0 0 24 24\"\n",
              "       width=\"24px\">\n",
              "    <path d=\"M0 0h24v24H0V0z\" fill=\"none\"/>\n",
              "    <path d=\"M18.56 5.44l.94 2.06.94-2.06 2.06-.94-2.06-.94-.94-2.06-.94 2.06-2.06.94zm-11 1L8.5 8.5l.94-2.06 2.06-.94-2.06-.94L8.5 2.5l-.94 2.06-2.06.94zm10 10l.94 2.06.94-2.06 2.06-.94-2.06-.94-.94-2.06-.94 2.06-2.06.94z\"/><path d=\"M17.41 7.96l-1.37-1.37c-.4-.4-.92-.59-1.43-.59-.52 0-1.04.2-1.43.59L10.3 9.45l-7.72 7.72c-.78.78-.78 2.05 0 2.83L4 21.41c.39.39.9.59 1.41.59.51 0 1.02-.2 1.41-.59l7.78-7.78 2.81-2.81c.8-.78.8-2.07 0-2.86zM5.41 20L4 18.59l7.72-7.72 1.47 1.35L5.41 20z\"/>\n",
              "  </svg>\n",
              "      </button>\n",
              "      \n",
              "  <style>\n",
              "    .colab-df-container {\n",
              "      display:flex;\n",
              "      flex-wrap:wrap;\n",
              "      gap: 12px;\n",
              "    }\n",
              "\n",
              "    .colab-df-convert {\n",
              "      background-color: #E8F0FE;\n",
              "      border: none;\n",
              "      border-radius: 50%;\n",
              "      cursor: pointer;\n",
              "      display: none;\n",
              "      fill: #1967D2;\n",
              "      height: 32px;\n",
              "      padding: 0 0 0 0;\n",
              "      width: 32px;\n",
              "    }\n",
              "\n",
              "    .colab-df-convert:hover {\n",
              "      background-color: #E2EBFA;\n",
              "      box-shadow: 0px 1px 2px rgba(60, 64, 67, 0.3), 0px 1px 3px 1px rgba(60, 64, 67, 0.15);\n",
              "      fill: #174EA6;\n",
              "    }\n",
              "\n",
              "    [theme=dark] .colab-df-convert {\n",
              "      background-color: #3B4455;\n",
              "      fill: #D2E3FC;\n",
              "    }\n",
              "\n",
              "    [theme=dark] .colab-df-convert:hover {\n",
              "      background-color: #434B5C;\n",
              "      box-shadow: 0px 1px 3px 1px rgba(0, 0, 0, 0.15);\n",
              "      filter: drop-shadow(0px 1px 2px rgba(0, 0, 0, 0.3));\n",
              "      fill: #FFFFFF;\n",
              "    }\n",
              "  </style>\n",
              "\n",
              "      <script>\n",
              "        const buttonEl =\n",
              "          document.querySelector('#df-20927c49-3299-4d5e-95c5-8f7f5a8ce855 button.colab-df-convert');\n",
              "        buttonEl.style.display =\n",
              "          google.colab.kernel.accessAllowed ? 'block' : 'none';\n",
              "\n",
              "        async function convertToInteractive(key) {\n",
              "          const element = document.querySelector('#df-20927c49-3299-4d5e-95c5-8f7f5a8ce855');\n",
              "          const dataTable =\n",
              "            await google.colab.kernel.invokeFunction('convertToInteractive',\n",
              "                                                     [key], {});\n",
              "          if (!dataTable) return;\n",
              "\n",
              "          const docLinkHtml = 'Like what you see? Visit the ' +\n",
              "            '<a target=\"_blank\" href=https://colab.research.google.com/notebooks/data_table.ipynb>data table notebook</a>'\n",
              "            + ' to learn more about interactive tables.';\n",
              "          element.innerHTML = '';\n",
              "          dataTable['output_type'] = 'display_data';\n",
              "          await google.colab.output.renderOutput(dataTable, element);\n",
              "          const docLink = document.createElement('div');\n",
              "          docLink.innerHTML = docLinkHtml;\n",
              "          element.appendChild(docLink);\n",
              "        }\n",
              "      </script>\n",
              "    </div>\n",
              "  </div>\n",
              "  "
            ]
          },
          "metadata": {},
          "execution_count": 16
        }
      ],
      "source": [
        "df.sample(10)"
      ]
    },
    {
      "cell_type": "code",
      "source": [
        "df.shape"
      ],
      "metadata": {
        "colab": {
          "base_uri": "https://localhost:8080/"
        },
        "id": "oWvEUygTzUQ3",
        "outputId": "0c379f1b-8800-4a1e-c8bd-eb932ed70736"
      },
      "execution_count": null,
      "outputs": [
        {
          "output_type": "execute_result",
          "data": {
            "text/plain": [
              "(3901, 5)"
            ]
          },
          "metadata": {},
          "execution_count": 18
        }
      ]
    },
    {
      "cell_type": "code",
      "source": [
        "# checking the number of characters in the sentences\n",
        "# the colums we are extracting sentences from is assigned here and throughout to the variable 'data'\n",
        "\n",
        "data = df['clean_sentence_EDA']\n",
        "data.str.len().hist()"
      ],
      "metadata": {
        "colab": {
          "base_uri": "https://localhost:8080/",
          "height": 282
        },
        "id": "X6Fjew30zZYv",
        "outputId": "4da2316b-4893-40dc-db1a-db848d744f75"
      },
      "execution_count": null,
      "outputs": [
        {
          "output_type": "execute_result",
          "data": {
            "text/plain": [
              "<matplotlib.axes._subplots.AxesSubplot at 0x7fce90e38d60>"
            ]
          },
          "metadata": {},
          "execution_count": 19
        },
        {
          "output_type": "display_data",
          "data": {
            "text/plain": [
              "<Figure size 432x288 with 1 Axes>"
            ],
            "image/png": "[encoded data removed]"
          },
          "metadata": {
            "needs_background": "light"
          }
        }
      ]
    },
    {
      "cell_type": "code",
      "source": [
        "import nltk\n",
        "nltk.download('punkt')\n",
        "# count words to gain insights\n",
        "\n",
        "counts = []\n",
        "\n",
        "for sentence in df['clean_sentence_EDA']:\n",
        "    sentence = word_tokenize(str(sentence))\n",
        "    word_count = len(sentence)\n",
        "    counts.append(word_count)\n",
        "\n",
        "plt.hist(counts)\n",
        "plt.show()"
      ],
      "metadata": {
        "colab": {
          "base_uri": "https://localhost:8080/",
          "height": 300
        },
        "id": "UlmRhIf-zvld",
        "outputId": "ad3e48a3-5ed0-4858-82b2-0387b9a6be6e"
      },
      "execution_count": null,
      "outputs": [
        {
          "output_type": "stream",
          "name": "stderr",
          "text": [
            "[nltk_data] Downloading package punkt to /root/nltk_data...\n",
            "[nltk_data]   Unzipping tokenizers/punkt.zip.\n"
          ]
        },
        {
          "output_type": "display_data",
          "data": {
            "text/plain": [
              "<Figure size 432x288 with 1 Axes>"
            ],
            "image/png": "[encoded data removed]"
          },
          "metadata": {
            "needs_background": "light"
          }
        }
      ]
    },
    {
      "cell_type": "code",
      "source": [
        "# basic metrics\n",
        "\n",
        "total_num_words = sum(counts) # total number of words\n",
        "average_sentence_length = np.mean(counts) # print everage sentence length\n",
        "\n",
        "word_lengths = []\n",
        "for sentence in df['clean_sentence_EDA']:\n",
        "    sentence = word_tokenize(str(sentence))\n",
        "    for word in sentence:\n",
        "        length = len(word)\n",
        "        word_lengths.append(length)\n",
        "\n",
        "average_word_length = np.mean(word_lengths) # print everage word length\n",
        "\n",
        "print(f'Total number of words in the dataset: {total_num_words} words.')\n",
        "print(f'Average length of words in the dataset: {average_word_length} characters.')\n",
        "print(f'Average length of sentences in the dataset: {average_sentence_length} words.')"
      ],
      "metadata": {
        "colab": {
          "base_uri": "https://localhost:8080/"
        },
        "id": "VfeF_Vtz0Ekg",
        "outputId": "9d3754f1-a981-44c5-d213-7a2a7eb12e73"
      },
      "execution_count": null,
      "outputs": [
        {
          "output_type": "stream",
          "name": "stdout",
          "text": [
            "Total number of words in the dataset: 20953 words.\n",
            "Average length of words in the dataset: 5.078890850952131 characters.\n",
            "Average length of sentences in the dataset: 5.371186875160215 words.\n"
          ]
        }
      ]
    },
    {
      "cell_type": "code",
      "source": [
        "all_words = []\n",
        "\n",
        "for sentence in df['clean_sentence_EDA']:\n",
        "    words = word_tokenize(str(sentence))\n",
        "    for word in words:\n",
        "        all_words.append(word)\n",
        "\n",
        "print(all_words[:100])"
      ],
      "metadata": {
        "colab": {
          "base_uri": "https://localhost:8080/"
        },
        "id": "0tYfOhQZ0Rh5",
        "outputId": "191c9830-f9bd-4f58-9a21-a465f3f0cdfc"
      },
      "execution_count": null,
      "outputs": [
        {
          "output_type": "stream",
          "name": "stdout",
          "text": [
            "['I', 'hate', 'women', 'I', 'hate', 'trans', 'people', 'I', 'hate', 'gay', 'people', 'I', 'hate', 'black', 'people', 'I', 'hate', 'disabled', 'people', 'I', 'hate', 'Muslims', 'I', 'hate', 'immigrants', 'I', 'really', 'ca', 'nt', 'stand', 'women', 'like', 'I', 'really', 'ca', 'nt', 'stand', 'trans', 'people', 'like', 'I', 'really', 'ca', 'nt', 'stand', 'gay', 'people', 'like', 'I', 'really', 'ca', 'nt', 'stand', 'black', 'people', 'like', 'I', 'really', 'ca', 'nt', 'stand', 'disabled', 'people', 'like', 'I', 'really', 'ca', 'nt', 'stand', 'Muslims', 'like', 'I', 'really', 'ca', 'nt', 'stand', 'immigrants', 'like', 'I', 'despise', 'women', 'I', 'despise', 'trans', 'people', 'I', 'despise', 'gay', 'people', 'I', 'despise', 'black', 'people', 'I', 'despise', 'disabled', 'people', 'I', 'despise', 'Muslims']\n"
          ]
        }
      ]
    },
    {
      "cell_type": "code",
      "source": [
        "# let us find the 20 most common words now\n",
        "\n",
        "most_common = Counter(all_words).most_common(20)\n",
        "print(most_common)"
      ],
      "metadata": {
        "colab": {
          "base_uri": "https://localhost:8080/"
        },
        "id": "yNjQc9iw001k",
        "outputId": "7cf10fc3-eff1-4170-9088-33b98af9b468"
      },
      "execution_count": null,
      "outputs": [
        {
          "output_type": "stream",
          "name": "stdout",
          "text": [
            "[('people', 1462), ('I', 1069), ('like', 545), ('trans', 319), ('gay', 319), ('black', 319), ('disabled', 319), ('Muslims', 312), ('You', 309), ('person', 302), ('s', 275), ('nt', 270), ('women', 232), ('immigrants', 232), ('nothing', 213), ('We', 193), ('would', 172), ('lives', 170), ('country', 158), ('It', 121)]\n"
          ]
        }
      ]
    },
    {
      "cell_type": "code",
      "source": [
        "words, frequency = [], []\n",
        "for word, count in most_common:\n",
        "    words.append(word)\n",
        "    frequency.append(count)\n",
        "    \n",
        "sns.barplot(x = frequency, y = words)"
      ],
      "metadata": {
        "colab": {
          "base_uri": "https://localhost:8080/",
          "height": 282
        },
        "id": "yqd-h8SJ04y5",
        "outputId": "ca42ff86-e384-420d-bf8c-b9238ba39895"
      },
      "execution_count": null,
      "outputs": [
        {
          "output_type": "execute_result",
          "data": {
            "text/plain": [
              "<matplotlib.axes._subplots.AxesSubplot at 0x7fce902ef160>"
            ]
          },
          "metadata": {},
          "execution_count": 26
        },
        {
          "output_type": "display_data",
          "data": {
            "text/plain": [
              "<Figure size 432x288 with 1 Axes>"
            ],
            "image/png": "[encoded data removed]"
          },
          "metadata": {
            "needs_background": "light"
          }
        }
      ]
    },
    {
      "cell_type": "code",
      "source": [
        "all_words_clean = []\n",
        "\n",
        "for sentence in df['clean_sentence_EDA']:\n",
        "    words = word_tokenize(str(sentence))\n",
        "    for word in words:\n",
        "        word = word.lower() # lowercase all word\n",
        "        if len(word) >= 3: # quick solution to get rif of contractions\n",
        "            # find better solution in official version\n",
        "            all_words_clean.append(word)\n",
        "\n",
        "print(all_words_clean[:100])"
      ],
      "metadata": {
        "colab": {
          "base_uri": "https://localhost:8080/"
        },
        "id": "RVOVW4n11GXt",
        "outputId": "80b39bb3-358f-40e4-eed4-508337852fe7"
      },
      "execution_count": null,
      "outputs": [
        {
          "output_type": "stream",
          "name": "stdout",
          "text": [
            "['hate', 'women', 'hate', 'trans', 'people', 'hate', 'gay', 'people', 'hate', 'black', 'people', 'hate', 'disabled', 'people', 'hate', 'muslims', 'hate', 'immigrants', 'really', 'stand', 'women', 'like', 'really', 'stand', 'trans', 'people', 'like', 'really', 'stand', 'gay', 'people', 'like', 'really', 'stand', 'black', 'people', 'like', 'really', 'stand', 'disabled', 'people', 'like', 'really', 'stand', 'muslims', 'like', 'really', 'stand', 'immigrants', 'like', 'despise', 'women', 'despise', 'trans', 'people', 'despise', 'gay', 'people', 'despise', 'black', 'people', 'despise', 'disabled', 'people', 'despise', 'muslims', 'despise', 'immigrants', 'detest', 'women', 'detest', 'trans', 'people', 'detest', 'gay', 'people', 'detest', 'black', 'people', 'detest', 'disabled', 'people', 'detest', 'muslims', 'detest', 'immigrants', 'absolutely', 'loathe', 'women', 'absolutely', 'loathe', 'trans', 'people', 'absolutely', 'loathe', 'gay', 'people', 'absolutely', 'loathe', 'black']\n"
          ]
        }
      ]
    },
    {
      "cell_type": "code",
      "source": [
        "# let us find the 20 most common words now (after second round of pre-processing)\n",
        "\n",
        "most_common2 = Counter(all_words_clean).most_common(20)\n",
        "print(most_common2)"
      ],
      "metadata": {
        "colab": {
          "base_uri": "https://localhost:8080/"
        },
        "id": "1weH39lY1Ky2",
        "outputId": "875ae315-8314-495b-a7f4-1fd317ed57db"
      },
      "execution_count": null,
      "outputs": [
        {
          "output_type": "stream",
          "name": "stdout",
          "text": [
            "[('people', 1488), ('like', 545), ('black', 411), ('trans', 410), ('gay', 410), ('disabled', 410), ('women', 312), ('muslims', 312), ('immigrants', 312), ('you', 309), ('person', 302), ('nothing', 214), ('would', 172), ('lives', 170), ('country', 158), ('typical', 142), ('worth', 116), ('never', 107), ('get', 104), ('going', 102)]\n"
          ]
        }
      ]
    },
    {
      "cell_type": "code",
      "source": [
        "# word frequency after second round of pre-processing\n",
        "\n",
        "words, frequency = [], []\n",
        "for word, count in most_common2:\n",
        "    if word == \"people\" or word == \"like\" or word == \"you\" :\n",
        "      continue\n",
        "    words.append(word)\n",
        "    frequency.append(count)\n",
        "    \n",
        "sns.barplot(x = frequency, y = words)"
      ],
      "metadata": {
        "colab": {
          "base_uri": "https://localhost:8080/",
          "height": 282
        },
        "id": "rIoPL5Nx1QaW",
        "outputId": "92b3427a-4de3-4ac1-e47d-8686f566e5f2"
      },
      "execution_count": null,
      "outputs": [
        {
          "output_type": "execute_result",
          "data": {
            "text/plain": [
              "<matplotlib.axes._subplots.AxesSubplot at 0x7fce9043f3d0>"
            ]
          },
          "metadata": {},
          "execution_count": 33
        },
        {
          "output_type": "display_data",
          "data": {
            "text/plain": [
              "<Figure size 432x288 with 1 Axes>"
            ],
            "image/png": "[encoded data removed]"
          },
          "metadata": {
            "needs_background": "light"
          }
        }
      ]
    },
    {
      "cell_type": "code",
      "source": [
        "unique_values = df['label'].unique()\n",
        "print(unique_values)"
      ],
      "metadata": {
        "colab": {
          "base_uri": "https://localhost:8080/"
        },
        "id": "1bpzHZ6T24w_",
        "outputId": "79cfa76c-92b3-4f23-ce74-330189a543c8"
      },
      "execution_count": null,
      "outputs": [
        {
          "output_type": "stream",
          "name": "stdout",
          "text": [
            "[2]\n"
          ]
        }
      ]
    },
    {
      "cell_type": "code",
      "source": [
        "count = 0\n",
        "for index, row in df.iterrows():\n",
        "    # Check if the value in the \"label\" column is equal to 2\n",
        "    if row[\"label\"] == 2:\n",
        "        # Increment the count\n",
        "        count += 1\n",
        "\n",
        "# Print the count\n",
        "print(\"Count:\", count)"
      ],
      "metadata": {
        "colab": {
          "base_uri": "https://localhost:8080/"
        },
        "id": "VRB2cV9f50xC",
        "outputId": "8a31942b-fe5c-47f3-fb89-99d6e11aa6fe"
      },
      "execution_count": null,
      "outputs": [
        {
          "output_type": "stream",
          "name": "stdout",
          "text": [
            "Count: 3901\n"
          ]
        }
      ]
    },
    {
      "cell_type": "code",
      "source": [
        "risky = 0\n",
        "potentially_risky = 0\n",
        "non_risky = 0\n",
        "void = 0\n",
        "other = 0\n",
        "\n",
        "for label in df['label']:\n",
        "    if label == 1:\n",
        "        potentially_risky += 1\n",
        "    elif label == 2:\n",
        "        risky += 1\n",
        "    elif label == 0:\n",
        "        non_risky += 1\n",
        "# Check if the value in the \"label\" column is missing (i.e., NaN or None) using pd.isnull\n",
        "# pd.isnull returns True if the value is missing and False otherwise\n",
        "    elif pd.isnull(label):\n",
        "        void += 1\n",
        "    else:\n",
        "        other += 1\n",
        "\n",
        "\n",
        "print(risky)\n",
        "print(potentially_risky)\n",
        "print(non_risky)\n",
        "print(other)\n",
        "print(void)"
      ],
      "metadata": {
        "colab": {
          "base_uri": "https://localhost:8080/"
        },
        "id": "uFq89hNu2geY",
        "outputId": "c7493250-bd01-4c9c-a5a6-49bf5bbe7626"
      },
      "execution_count": null,
      "outputs": [
        {
          "output_type": "stream",
          "name": "stdout",
          "text": [
            "3901\n",
            "0\n",
            "0\n",
            "0\n",
            "0\n"
          ]
        }
      ]
    },
    {
      "cell_type": "code",
      "source": [
        "# plot a pie chart to show label proportions\n",
        "\n",
        "y = np.array([risky, potentially_risky, non_risky, void])\n",
        "custom_labels = [\"Risky\", \"Potentially risky\", \"Non risky\", \"Void\"]\n",
        "myexplode = [0, 0.2, 0, 0] # not compulsory (use for interesting value, i.e, most or least represented)\n",
        "\n",
        "plt.pie(y, labels = custom_labels, explode = myexplode, shadow = True)\n",
        "plt.show() \n"
      ],
      "metadata": {
        "colab": {
          "base_uri": "https://localhost:8080/",
          "height": 248
        },
        "id": "mFV_R-U77IYh",
        "outputId": "8cf23f20-8f0b-4a49-992d-29e9415d6f76"
      },
      "execution_count": null,
      "outputs": [
        {
          "output_type": "display_data",
          "data": {
            "text/plain": [
              "<Figure size 432x288 with 1 Axes>"
            ],
            "image/png": "[encoded data removed]"
          },
          "metadata": {}
        }
      ]
    },
    {
      "cell_type": "code",
      "source": [
        "# create a word cloud\n",
        "# make sure the dataset is nice and clean before generating this\n",
        "\n",
        "word_cloud = WordCloud(collocations = False, background_color = 'white').generate(str((df['clean_sentence_EDA'])))\n",
        "\n",
        "plt.imshow(word_cloud, interpolation='bilinear')\n",
        "plt.axis(\"off\")\n",
        "plt.show()"
      ],
      "metadata": {
        "colab": {
          "base_uri": "https://localhost:8080/",
          "height": 198
        },
        "id": "TrwmXNLm7S_d",
        "outputId": "3751acb1-a4f4-45bc-b825-ccaacabbd796"
      },
      "execution_count": null,
      "outputs": [
        {
          "output_type": "display_data",
          "data": {
            "text/plain": [
              "<Figure size 432x288 with 1 Axes>"
            ],
            "image/png": "[encoded data removed]"
          },
          "metadata": {
            "needs_background": "light"
          }
        }
      ]
    }
  ]
}