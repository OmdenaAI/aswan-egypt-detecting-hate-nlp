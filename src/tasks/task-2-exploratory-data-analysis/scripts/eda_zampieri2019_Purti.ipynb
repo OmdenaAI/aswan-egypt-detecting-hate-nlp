{
 "cells": [
  {
   "cell_type": "code",
   "execution_count": 323,
   "metadata": {},
   "outputs": [],
   "source": [
    "from toxic_comment_collection import get_dataset\n",
    "get_dataset('zampieri2019')"
   ]
  },
  {
   "cell_type": "code",
   "execution_count": 324,
   "metadata": {},
   "outputs": [],
   "source": [
    "# Import Necessary Libraries\n",
    "import pandas as pd\n",
    "import numpy as np\n",
    "from nltk.corpus import stopwords\n",
    "from nltk.stem import WordNetLemmatizer\n",
    "from nltk.tokenize import word_tokenize\n",
    "import emoji\n",
    "import re"
   ]
  },
  {
   "cell_type": "code",
   "execution_count": 325,
   "metadata": {},
   "outputs": [
    {
     "data": {
      "text/html": [
       "<div>\n",
       "<style scoped>\n",
       "    .dataframe tbody tr th:only-of-type {\n",
       "        vertical-align: middle;\n",
       "    }\n",
       "\n",
       "    .dataframe tbody tr th {\n",
       "        vertical-align: top;\n",
       "    }\n",
       "\n",
       "    .dataframe thead th {\n",
       "        text-align: right;\n",
       "    }\n",
       "</style>\n",
       "<table border=\"1\" class=\"dataframe\">\n",
       "  <thead>\n",
       "    <tr style=\"text-align: right;\">\n",
       "      <th></th>\n",
       "      <th>id</th>\n",
       "      <th>text</th>\n",
       "      <th>labels</th>\n",
       "    </tr>\n",
       "  </thead>\n",
       "  <tbody>\n",
       "    <tr>\n",
       "      <th>0</th>\n",
       "      <td>0</td>\n",
       "      <td>@USER She should ask a few native Americans wh...</td>\n",
       "      <td>['offensive']</td>\n",
       "    </tr>\n",
       "    <tr>\n",
       "      <th>1</th>\n",
       "      <td>1</td>\n",
       "      <td>@USER @USER Go home you’re drunk!!! @USER #MAG...</td>\n",
       "      <td>['offensive']</td>\n",
       "    </tr>\n",
       "    <tr>\n",
       "      <th>2</th>\n",
       "      <td>2</td>\n",
       "      <td>Amazon is investigating Chinese employees who ...</td>\n",
       "      <td>['none']</td>\n",
       "    </tr>\n",
       "    <tr>\n",
       "      <th>3</th>\n",
       "      <td>3</td>\n",
       "      <td>@USER Someone should'veTaken\" this piece of sh...</td>\n",
       "      <td>['offensive']</td>\n",
       "    </tr>\n",
       "    <tr>\n",
       "      <th>4</th>\n",
       "      <td>4</td>\n",
       "      <td>@USER @USER Obama wanted liberals &amp;amp; illega...</td>\n",
       "      <td>['none']</td>\n",
       "    </tr>\n",
       "  </tbody>\n",
       "</table>\n",
       "</div>"
      ],
      "text/plain": [
       "   id                                               text         labels\n",
       "0   0  @USER She should ask a few native Americans wh...  ['offensive']\n",
       "1   1  @USER @USER Go home you’re drunk!!! @USER #MAG...  ['offensive']\n",
       "2   2  Amazon is investigating Chinese employees who ...       ['none']\n",
       "3   3  @USER Someone should'veTaken\" this piece of sh...  ['offensive']\n",
       "4   4  @USER @USER Obama wanted liberals &amp; illega...       ['none']"
      ]
     },
     "execution_count": 325,
     "metadata": {},
     "output_type": "execute_result"
    }
   ],
   "source": [
    "# Import Dataset\n",
    "df = pd.read_csv(\"./files/zampieri2019/zampieri2019en.csv\", sep=\"\\t\")\n",
    "df.head()"
   ]
  },
  {
   "cell_type": "code",
   "execution_count": 326,
   "metadata": {},
   "outputs": [
    {
     "data": {
      "text/plain": [
       "['none']         8840\n",
       "['offensive']    4400\n",
       "Name: labels, dtype: int64"
      ]
     },
     "execution_count": 326,
     "metadata": {},
     "output_type": "execute_result"
    }
   ],
   "source": [
    "df['labels'].value_counts()"
   ]
  },
  {
   "cell_type": "code",
   "execution_count": 327,
   "metadata": {},
   "outputs": [
    {
     "data": {
      "text/plain": [
       "13240"
      ]
     },
     "execution_count": 327,
     "metadata": {},
     "output_type": "execute_result"
    }
   ],
   "source": [
    "len(df)"
   ]
  },
  {
   "cell_type": "code",
   "execution_count": 328,
   "metadata": {},
   "outputs": [
    {
     "data": {
      "text/html": [
       "<div>\n",
       "<style scoped>\n",
       "    .dataframe tbody tr th:only-of-type {\n",
       "        vertical-align: middle;\n",
       "    }\n",
       "\n",
       "    .dataframe tbody tr th {\n",
       "        vertical-align: top;\n",
       "    }\n",
       "\n",
       "    .dataframe thead th {\n",
       "        text-align: right;\n",
       "    }\n",
       "</style>\n",
       "<table border=\"1\" class=\"dataframe\">\n",
       "  <thead>\n",
       "    <tr style=\"text-align: right;\">\n",
       "      <th></th>\n",
       "      <th>id</th>\n",
       "      <th>text</th>\n",
       "      <th>labels</th>\n",
       "    </tr>\n",
       "  </thead>\n",
       "  <tbody>\n",
       "    <tr>\n",
       "      <th>0</th>\n",
       "      <td>0</td>\n",
       "      <td>@USER She should ask a few native Americans wh...</td>\n",
       "      <td>['offensive']</td>\n",
       "    </tr>\n",
       "  </tbody>\n",
       "</table>\n",
       "</div>"
      ],
      "text/plain": [
       "   id                                               text         labels\n",
       "0   0  @USER She should ask a few native Americans wh...  ['offensive']"
      ]
     },
     "execution_count": 328,
     "metadata": {},
     "output_type": "execute_result"
    }
   ],
   "source": [
    "# Identify null rows or zero in the dataset\n",
    "\n",
    "df[df.isnull().any(axis=1)]\n",
    "df.loc[(df==0).any(axis=1)]"
   ]
  },
  {
   "cell_type": "code",
   "execution_count": 329,
   "metadata": {},
   "outputs": [
    {
     "name": "stdout",
     "output_type": "stream",
     "text": [
      "0        too risky\n",
      "1        too risky\n",
      "2         ['none']\n",
      "3        too risky\n",
      "4         ['none']\n",
      "           ...    \n",
      "13235    too risky\n",
      "13236     ['none']\n",
      "13237    too risky\n",
      "13238    too risky\n",
      "13239     ['none']\n",
      "Name: labels, Length: 13240, dtype: object\n"
     ]
    }
   ],
   "source": [
    "# Create new labels in the cleaned_dataset colunm\n",
    "\n",
    "cleaned_dataset=['too risky', 'non risky']\n",
    "\n",
    "for i in range(len(cleaned_data)):\n",
    "    if cleaned_data[i]=='offensive':\n",
    "        cleaned_data[i]='too risky'\n",
    "    if cleaned_data[i]==\"none\":\n",
    "        cleaned_data[i]= 'non risky'\n",
    "print(cleaned_data)"
   ]
  },
  {
   "cell_type": "code",
   "execution_count": 330,
   "metadata": {},
   "outputs": [
    {
     "data": {
      "text/html": [
       "<div>\n",
       "<style scoped>\n",
       "    .dataframe tbody tr th:only-of-type {\n",
       "        vertical-align: middle;\n",
       "    }\n",
       "\n",
       "    .dataframe tbody tr th {\n",
       "        vertical-align: top;\n",
       "    }\n",
       "\n",
       "    .dataframe thead th {\n",
       "        text-align: right;\n",
       "    }\n",
       "</style>\n",
       "<table border=\"1\" class=\"dataframe\">\n",
       "  <thead>\n",
       "    <tr style=\"text-align: right;\">\n",
       "      <th></th>\n",
       "      <th>id</th>\n",
       "      <th>text</th>\n",
       "      <th>labels</th>\n",
       "      <th>new_labels</th>\n",
       "    </tr>\n",
       "  </thead>\n",
       "  <tbody>\n",
       "    <tr>\n",
       "      <th>0</th>\n",
       "      <td>0</td>\n",
       "      <td>@USER She should ask a few native Americans wh...</td>\n",
       "      <td>['offensive']</td>\n",
       "      <td>too risky</td>\n",
       "    </tr>\n",
       "    <tr>\n",
       "      <th>1</th>\n",
       "      <td>1</td>\n",
       "      <td>@USER @USER Go home you’re drunk!!! @USER #MAG...</td>\n",
       "      <td>['offensive']</td>\n",
       "      <td>too risky</td>\n",
       "    </tr>\n",
       "    <tr>\n",
       "      <th>2</th>\n",
       "      <td>2</td>\n",
       "      <td>Amazon is investigating Chinese employees who ...</td>\n",
       "      <td>['none']</td>\n",
       "      <td>non risky</td>\n",
       "    </tr>\n",
       "    <tr>\n",
       "      <th>3</th>\n",
       "      <td>3</td>\n",
       "      <td>@USER Someone should'veTaken\" this piece of sh...</td>\n",
       "      <td>['offensive']</td>\n",
       "      <td>too risky</td>\n",
       "    </tr>\n",
       "    <tr>\n",
       "      <th>4</th>\n",
       "      <td>4</td>\n",
       "      <td>@USER @USER Obama wanted liberals &amp;amp; illega...</td>\n",
       "      <td>['none']</td>\n",
       "      <td>non risky</td>\n",
       "    </tr>\n",
       "  </tbody>\n",
       "</table>\n",
       "</div>"
      ],
      "text/plain": [
       "   id                                               text         labels  \\\n",
       "0   0  @USER She should ask a few native Americans wh...  ['offensive']   \n",
       "1   1  @USER @USER Go home you’re drunk!!! @USER #MAG...  ['offensive']   \n",
       "2   2  Amazon is investigating Chinese employees who ...       ['none']   \n",
       "3   3  @USER Someone should'veTaken\" this piece of sh...  ['offensive']   \n",
       "4   4  @USER @USER Obama wanted liberals &amp; illega...       ['none']   \n",
       "\n",
       "  new_labels  \n",
       "0  too risky  \n",
       "1  too risky  \n",
       "2  non risky  \n",
       "3  too risky  \n",
       "4  non risky  "
      ]
     },
     "execution_count": 330,
     "metadata": {},
     "output_type": "execute_result"
    }
   ],
   "source": [
    "df['new_labels'] = df['labels'].replace({\"['offensive']\":'too risky', \"['none']\" : \"non risky\"})\n",
    "df.head()"
   ]
  },
  {
   "cell_type": "code",
   "execution_count": 331,
   "metadata": {},
   "outputs": [
    {
     "data": {
      "text/html": [
       "<div>\n",
       "<style scoped>\n",
       "    .dataframe tbody tr th:only-of-type {\n",
       "        vertical-align: middle;\n",
       "    }\n",
       "\n",
       "    .dataframe tbody tr th {\n",
       "        vertical-align: top;\n",
       "    }\n",
       "\n",
       "    .dataframe thead th {\n",
       "        text-align: right;\n",
       "    }\n",
       "</style>\n",
       "<table border=\"1\" class=\"dataframe\">\n",
       "  <thead>\n",
       "    <tr style=\"text-align: right;\">\n",
       "      <th></th>\n",
       "      <th>id</th>\n",
       "      <th>text</th>\n",
       "      <th>labels</th>\n",
       "      <th>new_labels</th>\n",
       "      <th>numeric_labels</th>\n",
       "    </tr>\n",
       "  </thead>\n",
       "  <tbody>\n",
       "    <tr>\n",
       "      <th>0</th>\n",
       "      <td>0</td>\n",
       "      <td>@USER She should ask a few native Americans wh...</td>\n",
       "      <td>['offensive']</td>\n",
       "      <td>too risky</td>\n",
       "      <td>2</td>\n",
       "    </tr>\n",
       "    <tr>\n",
       "      <th>1</th>\n",
       "      <td>1</td>\n",
       "      <td>@USER @USER Go home you’re drunk!!! @USER #MAG...</td>\n",
       "      <td>['offensive']</td>\n",
       "      <td>too risky</td>\n",
       "      <td>2</td>\n",
       "    </tr>\n",
       "    <tr>\n",
       "      <th>2</th>\n",
       "      <td>2</td>\n",
       "      <td>Amazon is investigating Chinese employees who ...</td>\n",
       "      <td>['none']</td>\n",
       "      <td>non risky</td>\n",
       "      <td>0</td>\n",
       "    </tr>\n",
       "    <tr>\n",
       "      <th>3</th>\n",
       "      <td>3</td>\n",
       "      <td>@USER Someone should'veTaken\" this piece of sh...</td>\n",
       "      <td>['offensive']</td>\n",
       "      <td>too risky</td>\n",
       "      <td>2</td>\n",
       "    </tr>\n",
       "    <tr>\n",
       "      <th>4</th>\n",
       "      <td>4</td>\n",
       "      <td>@USER @USER Obama wanted liberals &amp;amp; illega...</td>\n",
       "      <td>['none']</td>\n",
       "      <td>non risky</td>\n",
       "      <td>0</td>\n",
       "    </tr>\n",
       "  </tbody>\n",
       "</table>\n",
       "</div>"
      ],
      "text/plain": [
       "   id                                               text         labels  \\\n",
       "0   0  @USER She should ask a few native Americans wh...  ['offensive']   \n",
       "1   1  @USER @USER Go home you’re drunk!!! @USER #MAG...  ['offensive']   \n",
       "2   2  Amazon is investigating Chinese employees who ...       ['none']   \n",
       "3   3  @USER Someone should'veTaken\" this piece of sh...  ['offensive']   \n",
       "4   4  @USER @USER Obama wanted liberals &amp; illega...       ['none']   \n",
       "\n",
       "  new_labels numeric_labels  \n",
       "0  too risky              2  \n",
       "1  too risky              2  \n",
       "2  non risky              0  \n",
       "3  too risky              2  \n",
       "4  non risky              0  "
      ]
     },
     "execution_count": 331,
     "metadata": {},
     "output_type": "execute_result"
    }
   ],
   "source": [
    "#convert labels into numerical format as \n",
    "df['numeric_labels'] = df['new_labels'].replace({\"non risky\":'0',\"too risky\":'2'})\n",
    "df.head()"
   ]
  },
  {
   "attachments": {},
   "cell_type": "markdown",
   "metadata": {},
   "source": [
    "Cleaning Sentence\n"
   ]
  },
  {
   "cell_type": "code",
   "execution_count": 332,
   "metadata": {},
   "outputs": [
    {
     "name": "stdout",
     "output_type": "stream",
     "text": [
      "how many missing value in the dataset 0\n"
     ]
    }
   ],
   "source": [
    "print(f\"how many missing value in the dataset {df.isnull().any().sum()}\")"
   ]
  },
  {
   "cell_type": "code",
   "execution_count": 333,
   "metadata": {},
   "outputs": [],
   "source": [
    "def clean_text(text):\n",
    "\n",
    "    text = re.sub('\\d+','', text)\n",
    "    text = re.sub('&amp;',' ',text)\n",
    "    text = re.sub('URL',' ',text)\n",
    "    text = re.sub('[^a-zA-Z]+', ' ', text)\n",
    "    text = re.sub('/(\\s\\s\\s*)/g', ' ',text)\n",
    "    text = re.sub('https?://\\S+|www\\.\\S+', '', text)\n",
    "    text = re.sub('USER','',text)\n",
    "    return text"
   ]
  },
  {
   "cell_type": "code",
   "execution_count": 334,
   "metadata": {},
   "outputs": [
    {
     "data": {
      "text/html": [
       "<div>\n",
       "<style scoped>\n",
       "    .dataframe tbody tr th:only-of-type {\n",
       "        vertical-align: middle;\n",
       "    }\n",
       "\n",
       "    .dataframe tbody tr th {\n",
       "        vertical-align: top;\n",
       "    }\n",
       "\n",
       "    .dataframe thead th {\n",
       "        text-align: right;\n",
       "    }\n",
       "</style>\n",
       "<table border=\"1\" class=\"dataframe\">\n",
       "  <thead>\n",
       "    <tr style=\"text-align: right;\">\n",
       "      <th></th>\n",
       "      <th>id</th>\n",
       "      <th>text</th>\n",
       "      <th>labels</th>\n",
       "      <th>new_labels</th>\n",
       "      <th>numeric_labels</th>\n",
       "      <th>cleaned_texts</th>\n",
       "    </tr>\n",
       "  </thead>\n",
       "  <tbody>\n",
       "    <tr>\n",
       "      <th>0</th>\n",
       "      <td>0</td>\n",
       "      <td>@USER She should ask a few native Americans wh...</td>\n",
       "      <td>['offensive']</td>\n",
       "      <td>too risky</td>\n",
       "      <td>2</td>\n",
       "      <td>She should ask a few native Americans what t...</td>\n",
       "    </tr>\n",
       "    <tr>\n",
       "      <th>1</th>\n",
       "      <td>1</td>\n",
       "      <td>@USER @USER Go home you’re drunk!!! @USER #MAG...</td>\n",
       "      <td>['offensive']</td>\n",
       "      <td>too risky</td>\n",
       "      <td>2</td>\n",
       "      <td>Go home you re drunk  MAGA Trump</td>\n",
       "    </tr>\n",
       "    <tr>\n",
       "      <th>2</th>\n",
       "      <td>2</td>\n",
       "      <td>Amazon is investigating Chinese employees who ...</td>\n",
       "      <td>['none']</td>\n",
       "      <td>non risky</td>\n",
       "      <td>0</td>\n",
       "      <td>Amazon is investigating Chinese employees who ...</td>\n",
       "    </tr>\n",
       "    <tr>\n",
       "      <th>3</th>\n",
       "      <td>3</td>\n",
       "      <td>@USER Someone should'veTaken\" this piece of sh...</td>\n",
       "      <td>['offensive']</td>\n",
       "      <td>too risky</td>\n",
       "      <td>2</td>\n",
       "      <td>Someone should veTaken this piece of shit to...</td>\n",
       "    </tr>\n",
       "    <tr>\n",
       "      <th>4</th>\n",
       "      <td>4</td>\n",
       "      <td>@USER @USER Obama wanted liberals &amp;amp; illega...</td>\n",
       "      <td>['none']</td>\n",
       "      <td>non risky</td>\n",
       "      <td>0</td>\n",
       "      <td>Obama wanted liberals illegals to move into...</td>\n",
       "    </tr>\n",
       "  </tbody>\n",
       "</table>\n",
       "</div>"
      ],
      "text/plain": [
       "   id                                               text         labels  \\\n",
       "0   0  @USER She should ask a few native Americans wh...  ['offensive']   \n",
       "1   1  @USER @USER Go home you’re drunk!!! @USER #MAG...  ['offensive']   \n",
       "2   2  Amazon is investigating Chinese employees who ...       ['none']   \n",
       "3   3  @USER Someone should'veTaken\" this piece of sh...  ['offensive']   \n",
       "4   4  @USER @USER Obama wanted liberals &amp; illega...       ['none']   \n",
       "\n",
       "  new_labels numeric_labels                                      cleaned_texts  \n",
       "0  too risky              2    She should ask a few native Americans what t...  \n",
       "1  too risky              2                  Go home you re drunk  MAGA Trump   \n",
       "2  non risky              0  Amazon is investigating Chinese employees who ...  \n",
       "3  too risky              2    Someone should veTaken this piece of shit to...  \n",
       "4  non risky              0     Obama wanted liberals illegals to move into...  "
      ]
     },
     "execution_count": 334,
     "metadata": {},
     "output_type": "execute_result"
    }
   ],
   "source": [
    "df['cleaned_texts'] = df['text'].apply(clean_text)\n",
    "df.head()"
   ]
  },
  {
   "cell_type": "code",
   "execution_count": 335,
   "metadata": {},
   "outputs": [],
   "source": [
    "#instantiate lemmatizer\n",
    "lemmatizer = WordNetLemmatizer()"
   ]
  },
  {
   "cell_type": "code",
   "execution_count": 336,
   "metadata": {},
   "outputs": [
    {
     "name": "stderr",
     "output_type": "stream",
     "text": [
      "[nltk_data] Downloading package stopwords to\n",
      "[nltk_data]     /Users/naveenkhajuria/nltk_data...\n",
      "[nltk_data]   Package stopwords is already up-to-date!\n",
      "[nltk_data] Downloading package wordnet to\n",
      "[nltk_data]     /Users/naveenkhajuria/nltk_data...\n",
      "[nltk_data]   Package wordnet is already up-to-date!\n"
     ]
    },
    {
     "data": {
      "text/plain": [
       "True"
      ]
     },
     "execution_count": 336,
     "metadata": {},
     "output_type": "execute_result"
    }
   ],
   "source": [
    "import nltk\n",
    "nltk.download('stopwords')\n",
    "nltk.download('wordnet')"
   ]
  },
  {
   "cell_type": "code",
   "execution_count": 337,
   "metadata": {},
   "outputs": [],
   "source": [
    "#select only the cleaned_texts column\n",
    "texts = df['cleaned_texts']\n",
    "#convert to dataframe\n",
    "texts = pd.DataFrame(texts)\n",
    "#create empty list to hold the final output\n",
    "corpus = []\n",
    "#loop through each row of comments\n",
    "for i in range(0, len(texts)):\n",
    "    #tokenize the text\n",
    "    review = texts['cleaned_texts'][i].split()\n",
    "    #remove stopwords and lemmatize\n",
    "    text_stopwords_lemmatized = [lemmatizer.lemmatize(word) for word in review if not word in stopwords.words('english')]\n",
    "    #combine the tokenized texts\n",
    "    text_stopwords_lemmatized = ' '.join(text_stopwords_lemmatized)\n",
    "    #put final result into the corpus list\n",
    "    corpus.append(text_stopwords_lemmatized)"
   ]
  },
  {
   "cell_type": "code",
   "execution_count": 338,
   "metadata": {},
   "outputs": [],
   "source": [
    "#create dataframe with the appropriate name as accoridng to repo guidelines\n",
    "corpus = pd.DataFrame(corpus, columns=['clean_sentence_training'])"
   ]
  },
  {
   "cell_type": "code",
   "execution_count": 339,
   "metadata": {},
   "outputs": [],
   "source": [
    "#merge the main dataframe with the cleaned one\n",
    "df = pd.concat([df, corpus], axis=1)"
   ]
  },
  {
   "cell_type": "code",
   "execution_count": 340,
   "metadata": {},
   "outputs": [],
   "source": [
    "#function to check for emojis\n",
    "def extract_emojis(s):\n",
    "    \"\"\"Checks if there are any emojis present\n",
    "\n",
    "    Args:\n",
    "        s (pandas series): column containing the texts\n",
    "    Returns:\n",
    "        result (list) : list containing emoji values if present, if not, empty string\n",
    "    \"\"\"    \n",
    "    result= ''.join(c for c in s if c in emoji.EMOJI_DATA)\n",
    "    return result"
   ]
  },
  {
   "cell_type": "code",
   "execution_count": 341,
   "metadata": {},
   "outputs": [
    {
     "data": {
      "text/plain": [
       "''"
      ]
     },
     "execution_count": 341,
     "metadata": {},
     "output_type": "execute_result"
    }
   ],
   "source": [
    "extract_emojis(df['text'])"
   ]
  },
  {
   "cell_type": "code",
   "execution_count": 342,
   "metadata": {},
   "outputs": [],
   "source": [
    "#rename columns to match the appropriate format requested in the repo\n",
    "df = df.rename(columns={'cleaned_texts':'raw_sentence','numeric_labels':'label'})\n",
    "df['corpus_name'] = 'zampieri2019: Offensive Posts in Social Media'\n",
    "df['clean_sentence_EDA'] = df['clean_sentence_training']\n"
   ]
  },
  {
   "cell_type": "code",
   "execution_count": 343,
   "metadata": {},
   "outputs": [],
   "source": [
    "#select only relevant columns\n",
    "df = df[['corpus_name','raw_sentence','label','clean_sentence_training','clean_sentence_EDA']]"
   ]
  },
  {
   "cell_type": "code",
   "execution_count": 344,
   "metadata": {},
   "outputs": [],
   "source": [
    "df.to_csv(\"zampieri2019_offensive_Posts_in_Social_Media.csv\")"
   ]
  },
  {
   "cell_type": "code",
   "execution_count": 379,
   "metadata": {},
   "outputs": [],
   "source": [
    "from wordcloud import WordCloud\n",
    "from collections import Counter\n",
    "from matplotlib import pyplot as plt\n",
    "from yellowbrick.text import FreqDistVisualizer\n",
    "from sklearn.feature_extraction.text import CountVectorizer\n",
    "import seaborn as sns\n"
   ]
  },
  {
   "cell_type": "code",
   "execution_count": 446,
   "metadata": {},
   "outputs": [
    {
     "data": {
      "image/png": "[encoded data removed]",
      "text/plain": [
       "<Figure size 800x550 with 2 Axes>"
      ]
     },
     "metadata": {},
     "output_type": "display_data"
    }
   ],
   "source": [
    "# Length of sentence shown by Histograph\n",
    "data = df['clean_sentence_EDA']\n",
    "counts = []\n",
    "# count words to gain insights\n",
    "for sentence in df['clean_sentence_EDA']:\n",
    "    sentence = word_tokenize(str(sentence))\n",
    "    word_count = len(sentence)\n",
    "    counts.append(word_count)\n",
    "\n",
    "fig, axes = plt.subplots(1, 2)\n",
    "data.str.len().hist(ax=axes[0]).set_title('Length of Sentence')\n",
    "plt.title('Word Count')\n",
    "plt.hist(counts)\n",
    "plt.show()\n",
    "\n"
   ]
  },
  {
   "cell_type": "code",
   "execution_count": 459,
   "metadata": {},
   "outputs": [
    {
     "name": "stdout",
     "output_type": "stream",
     "text": [
      "Total number of words in the dataset: 153242 words.\n",
      "Average length of sentences in the dataset: 11.57416918429003 words.\n",
      "Average length of words in the sentence: 5.358433066652745 characters\n"
     ]
    }
   ],
   "source": [
    "## Text Metrix A. total_num_words, B.average_word_length, C.average_sentence_length\n",
    "\n",
    "total_num_words= sum(counts)\n",
    "average_sentence_length= np.mean(counts)\n",
    "\n",
    "word_length=[]\n",
    "for sentence in df['clean_sentence_EDA']:\n",
    "    sentence= word_tokenize(str(sentence))\n",
    "    for word in sentence:\n",
    "        length=len(word)\n",
    "        word_length.append(length)\n",
    "average_word_length=np.mean(word_length)\n",
    "\n",
    "print(f'Total number of words in the dataset: {total_num_words} words.')\n",
    "print(f'Average length of sentences in the dataset: {average_sentence_length} words.')\n",
    "print(f'Average length of words in the sentence: {average_word_length} characters')\n",
    "\n",
    "\n",
    "\n",
    "\n"
   ]
  },
  {
   "cell_type": "code",
   "execution_count": null,
   "metadata": {},
   "outputs": [],
   "source": [
    "# Most frequent words before and after data processing/cleaning\n"
   ]
  },
  {
   "cell_type": "code",
   "execution_count": null,
   "metadata": {},
   "outputs": [],
   "source": [
    "# 20 Most frequent words by a. entire dataset, b. by each label type"
   ]
  },
  {
   "cell_type": "code",
   "execution_count": null,
   "metadata": {},
   "outputs": [],
   "source": [
    "# Label balance- Pie Chart"
   ]
  },
  {
   "cell_type": "code",
   "execution_count": null,
   "metadata": {},
   "outputs": [],
   "source": [
    "# Word Cloud"
   ]
  },
  {
   "cell_type": "code",
   "execution_count": 349,
   "metadata": {},
   "outputs": [
    {
     "data": {
      "text/html": [
       "<div>\n",
       "<style scoped>\n",
       "    .dataframe tbody tr th:only-of-type {\n",
       "        vertical-align: middle;\n",
       "    }\n",
       "\n",
       "    .dataframe tbody tr th {\n",
       "        vertical-align: top;\n",
       "    }\n",
       "\n",
       "    .dataframe thead th {\n",
       "        text-align: right;\n",
       "    }\n",
       "</style>\n",
       "<table border=\"1\" class=\"dataframe\">\n",
       "  <thead>\n",
       "    <tr style=\"text-align: right;\">\n",
       "      <th></th>\n",
       "      <th>corpus_name</th>\n",
       "      <th>raw_sentence</th>\n",
       "      <th>label</th>\n",
       "      <th>clean_sentence_training</th>\n",
       "      <th>clean_sentence_EDA</th>\n",
       "    </tr>\n",
       "  </thead>\n",
       "  <tbody>\n",
       "    <tr>\n",
       "      <th>0</th>\n",
       "      <td>zampieri2019: Offensive Posts in Social Media</td>\n",
       "      <td>She should ask a few native Americans what t...</td>\n",
       "      <td>2</td>\n",
       "      <td>She ask native Americans take</td>\n",
       "      <td>She ask native Americans take</td>\n",
       "    </tr>\n",
       "    <tr>\n",
       "      <th>1</th>\n",
       "      <td>zampieri2019: Offensive Posts in Social Media</td>\n",
       "      <td>Go home you re drunk  MAGA Trump</td>\n",
       "      <td>2</td>\n",
       "      <td>Go home drunk MAGA Trump</td>\n",
       "      <td>Go home drunk MAGA Trump</td>\n",
       "    </tr>\n",
       "  </tbody>\n",
       "</table>\n",
       "</div>"
      ],
      "text/plain": [
       "                                     corpus_name  \\\n",
       "0  zampieri2019: Offensive Posts in Social Media   \n",
       "1  zampieri2019: Offensive Posts in Social Media   \n",
       "\n",
       "                                        raw_sentence label  \\\n",
       "0    She should ask a few native Americans what t...     2   \n",
       "1                  Go home you re drunk  MAGA Trump      2   \n",
       "\n",
       "         clean_sentence_training             clean_sentence_EDA  \n",
       "0  She ask native Americans take  She ask native Americans take  \n",
       "1       Go home drunk MAGA Trump       Go home drunk MAGA Trump  "
      ]
     },
     "execution_count": 349,
     "metadata": {},
     "output_type": "execute_result"
    }
   ],
   "source": [
    "df.head(2)"
   ]
  },
  {
   "cell_type": "code",
   "execution_count": 346,
   "metadata": {},
   "outputs": [
    {
     "data": {
      "text/plain": [
       "(13240, 5)"
      ]
     },
     "execution_count": 346,
     "metadata": {},
     "output_type": "execute_result"
    }
   ],
   "source": [
    "df.shape"
   ]
  },
  {
   "attachments": {},
   "cell_type": "markdown",
   "metadata": {},
   "source": [
    "# Text Statistics\n",
    "\n",
    "We will analyze the following data:\n",
    "\n",
    "1. What are the most frequent words in the dataset by labels? [Bar chart]\n",
    "2. Prepare a table of basic statistics [table]:\n",
    "    a.Average length of the word\n",
    "    b.Average number of words in the sentences\n",
    "    c.Total words in the dataset\n",
    "1. 20 most common words based [word cloud]\n",
    "2. 20 most common words based on TF-IDF\n",
    "3. Overview of the label categories [bar chart]\n",
    "\n"
   ]
  },
  {
   "cell_type": "code",
   "execution_count": 373,
   "metadata": {},
   "outputs": [
    {
     "name": "stderr",
     "output_type": "stream",
     "text": [
      "[nltk_data] Downloading package punkt to\n",
      "[nltk_data]     /Users/naveenkhajuria/nltk_data...\n",
      "[nltk_data]   Package punkt is already up-to-date!\n"
     ]
    },
    {
     "name": "stdout",
     "output_type": "stream",
     "text": [
      "['She', 'ask', 'native', 'Americans', 'take', 'Go', 'home', 'drunk', 'MAGA', 'Trump', 'Amazon', 'investigating', 'Chinese', 'employee', 'selling', 'internal', 'data', 'third', 'party', 'seller', 'looking', 'edge', 'competitive', 'marketplace', 'Amazon', 'MAGA', 'KAG', 'CHINA', 'TCOT', 'Someone', 'veTaken', 'piece', 'shit', 'volcano', 'Obama', 'wanted', 'liberal', 'illegals', 'move', 'red', 'state', 'Liberals', 'Kookoo', 'Oh', 'no', 'Tough', 'shit', 'literally', 'talking', 'lol', 'mass', 'shooting', 'like', 'set', 'ups', 'propaganda', 'used', 'divide', 'u', 'major', 'issue', 'like', 'gun', 'control', 'terrorism', 'Buy', 'icecream', 'Canada', 'need', 'another', 'CUCK', 'We', 'already', 'enough', 'LooneyLeft', 'Liberals', 'f', 'king', 'great', 'country', 'Qproofs', 'TrudeauMustGo', 'It', 'fault', 'support', 'gun', 'control', 'What', 'difference', 'Kavanaugh', 'One', 'men', 'admitted', 'groping', 'year', 'old', 'girl', 'year', 'ago', 'The']\n"
     ]
    }
   ],
   "source": [
    "nltk.download('punkt')\n",
    "\n",
    "all_words = []\n",
    "\n",
    "for sentence in df['clean_sentence_EDA']:\n",
    "    words = word_tokenize(str(sentence))\n",
    "    for word in words:\n",
    "        all_words.append(word)\n",
    "print(all_words[:100])"
   ]
  },
  {
   "cell_type": "code",
   "execution_count": 364,
   "metadata": {},
   "outputs": [
    {
     "name": "stdout",
     "output_type": "stream",
     "text": [
      "[('I', 3476), ('gun', 1300), ('You', 1255), ('He', 1169), ('control', 1124), ('liberal', 1057), ('like', 1055), ('She', 941), ('MAGA', 923), ('The', 847), ('people', 835), ('know', 705), ('conservative', 669), ('get', 659), ('one', 634), ('It', 626), ('Antifa', 625), ('think', 600), ('Trump', 568), ('right', 538)]\n"
     ]
    }
   ],
   "source": [
    "# let us find the 20 most common words now\n",
    "\n",
    "most_common = Counter(all_words).most_common(20)\n",
    "print(most_common)"
   ]
  },
  {
   "cell_type": "code",
   "execution_count": 378,
   "metadata": {},
   "outputs": [
    {
     "data": {
      "image/png": "[encoded data removed]",
      "text/plain": [
       "<Figure size 1200x800 with 1 Axes>"
      ]
     },
     "metadata": {},
     "output_type": "display_data"
    },
    {
     "data": {
      "text/plain": [
       "<AxesSubplot: title={'center': 'Frequency Distribution of Top 50 tokens'}>"
      ]
     },
     "execution_count": 378,
     "metadata": {},
     "output_type": "execute_result"
    }
   ],
   "source": [
    "# Visualize Token Frequency Distribution After Text Preprocessing\n",
    "# The distribution because it tells us how the total number of word tokens in the text are distributed across the vocabulary items.visualizer plots a bar chart of the top 50 most frequent terms in the corpus, with the terms listed along the x-axis and frequency counts depicted at y-axis values. \n",
    "\n",
    "\n",
    "vectorizer = CountVectorizer()\n",
    "docs       = vectorizer.fit_transform(df['clean_sentence_EDA'])\n",
    "features   = vectorizer.get_feature_names_out()\n",
    "plt.figure(figsize=(12,8))\n",
    "visualizer = FreqDistVisualizer(features=features)\n",
    "visualizer.fit(docs)\n",
    "for label in visualizer.ax.texts:\n",
    "    label.set_size(20)\n",
    "visualizer.poof()"
   ]
  }
 ],
 "metadata": {
  "kernelspec": {
   "display_name": "Python 3",
   "language": "python",
   "name": "python3"
  },
  "language_info": {
   "codemirror_mode": {
    "name": "ipython",
    "version": 3
   },
   "file_extension": ".py",
   "mimetype": "text/x-python",
   "name": "python",
   "nbconvert_exporter": "python",
   "pygments_lexer": "ipython3",
   "version": "3.9.6"
  },
  "orig_nbformat": 4,
  "vscode": {
   "interpreter": {
    "hash": "31f2aee4e71d21fbe5cf8b01ff0e069b9275f58929596ceb00d14d90e3e16cd6"
   }
  }
 },
 "nbformat": 4,
 "nbformat_minor": 2
}
