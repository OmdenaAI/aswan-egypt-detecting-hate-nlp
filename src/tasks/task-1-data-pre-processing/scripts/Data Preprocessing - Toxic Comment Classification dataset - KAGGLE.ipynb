{
 "cells": [
  {
   "cell_type": "code",
   "execution_count": 1,
   "id": "698b861f",
   "metadata": {},
   "outputs": [],
   "source": [
    "#import neccessary libraries\n",
    "import pandas as pd\n",
    "import numpy as np\n",
    "from nltk.corpus import stopwords\n",
    "from nltk.stem import WordNetLemmatizer\n",
    "from nltk.tokenize import word_tokenize\n",
    "import emoji\n",
    "import re"
   ]
  },
  {
   "cell_type": "code",
   "execution_count": 2,
   "id": "d83c5f7c",
   "metadata": {},
   "outputs": [
    {
     "data": {
      "text/html": [
       "<div>\n",
       "<style scoped>\n",
       "    .dataframe tbody tr th:only-of-type {\n",
       "        vertical-align: middle;\n",
       "    }\n",
       "\n",
       "    .dataframe tbody tr th {\n",
       "        vertical-align: top;\n",
       "    }\n",
       "\n",
       "    .dataframe thead th {\n",
       "        text-align: right;\n",
       "    }\n",
       "</style>\n",
       "<table border=\"1\" class=\"dataframe\">\n",
       "  <thead>\n",
       "    <tr style=\"text-align: right;\">\n",
       "      <th></th>\n",
       "      <th>id</th>\n",
       "      <th>comment_text</th>\n",
       "      <th>toxic</th>\n",
       "      <th>severe_toxic</th>\n",
       "      <th>obscene</th>\n",
       "      <th>threat</th>\n",
       "      <th>insult</th>\n",
       "      <th>identity_hate</th>\n",
       "    </tr>\n",
       "  </thead>\n",
       "  <tbody>\n",
       "    <tr>\n",
       "      <th>0</th>\n",
       "      <td>0000997932d777bf</td>\n",
       "      <td>Explanation\\nWhy the edits made under my usern...</td>\n",
       "      <td>0</td>\n",
       "      <td>0</td>\n",
       "      <td>0</td>\n",
       "      <td>0</td>\n",
       "      <td>0</td>\n",
       "      <td>0</td>\n",
       "    </tr>\n",
       "    <tr>\n",
       "      <th>1</th>\n",
       "      <td>000103f0d9cfb60f</td>\n",
       "      <td>D'aww! He matches this background colour I'm s...</td>\n",
       "      <td>0</td>\n",
       "      <td>0</td>\n",
       "      <td>0</td>\n",
       "      <td>0</td>\n",
       "      <td>0</td>\n",
       "      <td>0</td>\n",
       "    </tr>\n",
       "    <tr>\n",
       "      <th>2</th>\n",
       "      <td>000113f07ec002fd</td>\n",
       "      <td>Hey man, I'm really not trying to edit war. It...</td>\n",
       "      <td>0</td>\n",
       "      <td>0</td>\n",
       "      <td>0</td>\n",
       "      <td>0</td>\n",
       "      <td>0</td>\n",
       "      <td>0</td>\n",
       "    </tr>\n",
       "    <tr>\n",
       "      <th>3</th>\n",
       "      <td>0001b41b1c6bb37e</td>\n",
       "      <td>\"\\nMore\\nI can't make any real suggestions on ...</td>\n",
       "      <td>0</td>\n",
       "      <td>0</td>\n",
       "      <td>0</td>\n",
       "      <td>0</td>\n",
       "      <td>0</td>\n",
       "      <td>0</td>\n",
       "    </tr>\n",
       "    <tr>\n",
       "      <th>4</th>\n",
       "      <td>0001d958c54c6e35</td>\n",
       "      <td>You, sir, are my hero. Any chance you remember...</td>\n",
       "      <td>0</td>\n",
       "      <td>0</td>\n",
       "      <td>0</td>\n",
       "      <td>0</td>\n",
       "      <td>0</td>\n",
       "      <td>0</td>\n",
       "    </tr>\n",
       "  </tbody>\n",
       "</table>\n",
       "</div>"
      ],
      "text/plain": [
       "                 id                                       comment_text  toxic  \\\n",
       "0  0000997932d777bf  Explanation\\nWhy the edits made under my usern...      0   \n",
       "1  000103f0d9cfb60f  D'aww! He matches this background colour I'm s...      0   \n",
       "2  000113f07ec002fd  Hey man, I'm really not trying to edit war. It...      0   \n",
       "3  0001b41b1c6bb37e  \"\\nMore\\nI can't make any real suggestions on ...      0   \n",
       "4  0001d958c54c6e35  You, sir, are my hero. Any chance you remember...      0   \n",
       "\n",
       "   severe_toxic  obscene  threat  insult  identity_hate  \n",
       "0             0        0       0       0              0  \n",
       "1             0        0       0       0              0  \n",
       "2             0        0       0       0              0  \n",
       "3             0        0       0       0              0  \n",
       "4             0        0       0       0              0  "
      ]
     },
     "execution_count": 2,
     "metadata": {},
     "output_type": "execute_result"
    }
   ],
   "source": [
    "#load in the train data\n",
    "train = pd.read_csv('jigsaw-toxic-comment-classification-challenge/train.csv')\n",
    "train.head()"
   ]
  },
  {
   "cell_type": "code",
   "execution_count": 3,
   "id": "8a8b7694",
   "metadata": {},
   "outputs": [
    {
     "data": {
      "text/html": [
       "<div>\n",
       "<style scoped>\n",
       "    .dataframe tbody tr th:only-of-type {\n",
       "        vertical-align: middle;\n",
       "    }\n",
       "\n",
       "    .dataframe tbody tr th {\n",
       "        vertical-align: top;\n",
       "    }\n",
       "\n",
       "    .dataframe thead th {\n",
       "        text-align: right;\n",
       "    }\n",
       "</style>\n",
       "<table border=\"1\" class=\"dataframe\">\n",
       "  <thead>\n",
       "    <tr style=\"text-align: right;\">\n",
       "      <th></th>\n",
       "      <th>id</th>\n",
       "      <th>comment_text</th>\n",
       "    </tr>\n",
       "  </thead>\n",
       "  <tbody>\n",
       "    <tr>\n",
       "      <th>0</th>\n",
       "      <td>00001cee341fdb12</td>\n",
       "      <td>Yo bitch Ja Rule is more succesful then you'll...</td>\n",
       "    </tr>\n",
       "    <tr>\n",
       "      <th>1</th>\n",
       "      <td>0000247867823ef7</td>\n",
       "      <td>== From RfC == \\n\\n The title is fine as it is...</td>\n",
       "    </tr>\n",
       "    <tr>\n",
       "      <th>2</th>\n",
       "      <td>00013b17ad220c46</td>\n",
       "      <td>\" \\n\\n == Sources == \\n\\n * Zawe Ashton on Lap...</td>\n",
       "    </tr>\n",
       "    <tr>\n",
       "      <th>3</th>\n",
       "      <td>00017563c3f7919a</td>\n",
       "      <td>:If you have a look back at the source, the in...</td>\n",
       "    </tr>\n",
       "    <tr>\n",
       "      <th>4</th>\n",
       "      <td>00017695ad8997eb</td>\n",
       "      <td>I don't anonymously edit articles at all.</td>\n",
       "    </tr>\n",
       "  </tbody>\n",
       "</table>\n",
       "</div>"
      ],
      "text/plain": [
       "                 id                                       comment_text\n",
       "0  00001cee341fdb12  Yo bitch Ja Rule is more succesful then you'll...\n",
       "1  0000247867823ef7  == From RfC == \\n\\n The title is fine as it is...\n",
       "2  00013b17ad220c46  \" \\n\\n == Sources == \\n\\n * Zawe Ashton on Lap...\n",
       "3  00017563c3f7919a  :If you have a look back at the source, the in...\n",
       "4  00017695ad8997eb          I don't anonymously edit articles at all."
      ]
     },
     "execution_count": 3,
     "metadata": {},
     "output_type": "execute_result"
    }
   ],
   "source": [
    "#load in the test data\n",
    "test = pd.read_csv('jigsaw-toxic-comment-classification-challenge/test.csv')\n",
    "test.head()"
   ]
  },
  {
   "cell_type": "code",
   "execution_count": 4,
   "id": "271080c2",
   "metadata": {},
   "outputs": [
    {
     "data": {
      "text/html": [
       "<div>\n",
       "<style scoped>\n",
       "    .dataframe tbody tr th:only-of-type {\n",
       "        vertical-align: middle;\n",
       "    }\n",
       "\n",
       "    .dataframe tbody tr th {\n",
       "        vertical-align: top;\n",
       "    }\n",
       "\n",
       "    .dataframe thead th {\n",
       "        text-align: right;\n",
       "    }\n",
       "</style>\n",
       "<table border=\"1\" class=\"dataframe\">\n",
       "  <thead>\n",
       "    <tr style=\"text-align: right;\">\n",
       "      <th></th>\n",
       "      <th>id</th>\n",
       "      <th>toxic</th>\n",
       "      <th>severe_toxic</th>\n",
       "      <th>obscene</th>\n",
       "      <th>threat</th>\n",
       "      <th>insult</th>\n",
       "      <th>identity_hate</th>\n",
       "    </tr>\n",
       "  </thead>\n",
       "  <tbody>\n",
       "    <tr>\n",
       "      <th>0</th>\n",
       "      <td>00001cee341fdb12</td>\n",
       "      <td>-1</td>\n",
       "      <td>-1</td>\n",
       "      <td>-1</td>\n",
       "      <td>-1</td>\n",
       "      <td>-1</td>\n",
       "      <td>-1</td>\n",
       "    </tr>\n",
       "    <tr>\n",
       "      <th>1</th>\n",
       "      <td>0000247867823ef7</td>\n",
       "      <td>-1</td>\n",
       "      <td>-1</td>\n",
       "      <td>-1</td>\n",
       "      <td>-1</td>\n",
       "      <td>-1</td>\n",
       "      <td>-1</td>\n",
       "    </tr>\n",
       "    <tr>\n",
       "      <th>2</th>\n",
       "      <td>00013b17ad220c46</td>\n",
       "      <td>-1</td>\n",
       "      <td>-1</td>\n",
       "      <td>-1</td>\n",
       "      <td>-1</td>\n",
       "      <td>-1</td>\n",
       "      <td>-1</td>\n",
       "    </tr>\n",
       "    <tr>\n",
       "      <th>3</th>\n",
       "      <td>00017563c3f7919a</td>\n",
       "      <td>-1</td>\n",
       "      <td>-1</td>\n",
       "      <td>-1</td>\n",
       "      <td>-1</td>\n",
       "      <td>-1</td>\n",
       "      <td>-1</td>\n",
       "    </tr>\n",
       "    <tr>\n",
       "      <th>4</th>\n",
       "      <td>00017695ad8997eb</td>\n",
       "      <td>-1</td>\n",
       "      <td>-1</td>\n",
       "      <td>-1</td>\n",
       "      <td>-1</td>\n",
       "      <td>-1</td>\n",
       "      <td>-1</td>\n",
       "    </tr>\n",
       "  </tbody>\n",
       "</table>\n",
       "</div>"
      ],
      "text/plain": [
       "                 id  toxic  severe_toxic  obscene  threat  insult  \\\n",
       "0  00001cee341fdb12     -1            -1       -1      -1      -1   \n",
       "1  0000247867823ef7     -1            -1       -1      -1      -1   \n",
       "2  00013b17ad220c46     -1            -1       -1      -1      -1   \n",
       "3  00017563c3f7919a     -1            -1       -1      -1      -1   \n",
       "4  00017695ad8997eb     -1            -1       -1      -1      -1   \n",
       "\n",
       "   identity_hate  \n",
       "0             -1  \n",
       "1             -1  \n",
       "2             -1  \n",
       "3             -1  \n",
       "4             -1  "
      ]
     },
     "execution_count": 4,
     "metadata": {},
     "output_type": "execute_result"
    }
   ],
   "source": [
    "#load in the test labels\n",
    "test_labels = pd.read_csv('jigsaw-toxic-comment-classification-challenge/test_labels.csv')\n",
    "test_labels.head()"
   ]
  },
  {
   "cell_type": "code",
   "execution_count": 5,
   "id": "731d6288",
   "metadata": {},
   "outputs": [
    {
     "data": {
      "text/plain": [
       "153164"
      ]
     },
     "execution_count": 5,
     "metadata": {},
     "output_type": "execute_result"
    }
   ],
   "source": [
    "len(test_labels)"
   ]
  },
  {
   "cell_type": "code",
   "execution_count": 6,
   "id": "08b646a2",
   "metadata": {},
   "outputs": [],
   "source": [
    "#remove unneccesary rows\n",
    "test_labels = test_labels[~test_labels['toxic']<0]"
   ]
  },
  {
   "cell_type": "code",
   "execution_count": 7,
   "id": "abedf73c",
   "metadata": {},
   "outputs": [],
   "source": [
    "#combine the test data and its labels\n",
    "test = pd.merge(test, test_labels, on='id')"
   ]
  },
  {
   "cell_type": "code",
   "execution_count": 8,
   "id": "9822155d",
   "metadata": {},
   "outputs": [
    {
     "data": {
      "text/plain": [
       "(159571, 63978)"
      ]
     },
     "execution_count": 8,
     "metadata": {},
     "output_type": "execute_result"
    }
   ],
   "source": [
    "len(train), len(test)"
   ]
  },
  {
   "cell_type": "code",
   "execution_count": 9,
   "id": "a78295c6",
   "metadata": {},
   "outputs": [],
   "source": [
    "#combine train and test\n",
    "df = pd.concat([train,test]).reset_index().drop(columns='index')"
   ]
  },
  {
   "cell_type": "code",
   "execution_count": 10,
   "id": "138c7a12",
   "metadata": {},
   "outputs": [
    {
     "data": {
      "text/plain": [
       "\"Explanation\\nWhy the edits made under my username Hardcore Metallica Fan were reverted? They weren't vandalisms, just closure on some GAs after I voted at New York Dolls FAC. And please don't remove the template from the talk page since I'm retired now.89.205.38.27\""
      ]
     },
     "execution_count": 10,
     "metadata": {},
     "output_type": "execute_result"
    }
   ],
   "source": [
    "df.loc[0]['comment_text']"
   ]
  },
  {
   "cell_type": "code",
   "execution_count": 11,
   "id": "d77dccad",
   "metadata": {},
   "outputs": [
    {
     "data": {
      "text/html": [
       "<div>\n",
       "<style scoped>\n",
       "    .dataframe tbody tr th:only-of-type {\n",
       "        vertical-align: middle;\n",
       "    }\n",
       "\n",
       "    .dataframe tbody tr th {\n",
       "        vertical-align: top;\n",
       "    }\n",
       "\n",
       "    .dataframe thead th {\n",
       "        text-align: right;\n",
       "    }\n",
       "</style>\n",
       "<table border=\"1\" class=\"dataframe\">\n",
       "  <thead>\n",
       "    <tr style=\"text-align: right;\">\n",
       "      <th></th>\n",
       "      <th>id</th>\n",
       "      <th>comment_text</th>\n",
       "      <th>toxic</th>\n",
       "      <th>severe_toxic</th>\n",
       "      <th>obscene</th>\n",
       "      <th>threat</th>\n",
       "      <th>insult</th>\n",
       "      <th>identity_hate</th>\n",
       "    </tr>\n",
       "  </thead>\n",
       "  <tbody>\n",
       "    <tr>\n",
       "      <th>0</th>\n",
       "      <td>0000997932d777bf</td>\n",
       "      <td>Explanation\\nWhy the edits made under my usern...</td>\n",
       "      <td>0</td>\n",
       "      <td>0</td>\n",
       "      <td>0</td>\n",
       "      <td>0</td>\n",
       "      <td>0</td>\n",
       "      <td>0</td>\n",
       "    </tr>\n",
       "    <tr>\n",
       "      <th>1</th>\n",
       "      <td>000103f0d9cfb60f</td>\n",
       "      <td>D'aww! He matches this background colour I'm s...</td>\n",
       "      <td>0</td>\n",
       "      <td>0</td>\n",
       "      <td>0</td>\n",
       "      <td>0</td>\n",
       "      <td>0</td>\n",
       "      <td>0</td>\n",
       "    </tr>\n",
       "    <tr>\n",
       "      <th>2</th>\n",
       "      <td>000113f07ec002fd</td>\n",
       "      <td>Hey man, I'm really not trying to edit war. It...</td>\n",
       "      <td>0</td>\n",
       "      <td>0</td>\n",
       "      <td>0</td>\n",
       "      <td>0</td>\n",
       "      <td>0</td>\n",
       "      <td>0</td>\n",
       "    </tr>\n",
       "    <tr>\n",
       "      <th>3</th>\n",
       "      <td>0001b41b1c6bb37e</td>\n",
       "      <td>\"\\nMore\\nI can't make any real suggestions on ...</td>\n",
       "      <td>0</td>\n",
       "      <td>0</td>\n",
       "      <td>0</td>\n",
       "      <td>0</td>\n",
       "      <td>0</td>\n",
       "      <td>0</td>\n",
       "    </tr>\n",
       "    <tr>\n",
       "      <th>4</th>\n",
       "      <td>0001d958c54c6e35</td>\n",
       "      <td>You, sir, are my hero. Any chance you remember...</td>\n",
       "      <td>0</td>\n",
       "      <td>0</td>\n",
       "      <td>0</td>\n",
       "      <td>0</td>\n",
       "      <td>0</td>\n",
       "      <td>0</td>\n",
       "    </tr>\n",
       "    <tr>\n",
       "      <th>...</th>\n",
       "      <td>...</td>\n",
       "      <td>...</td>\n",
       "      <td>...</td>\n",
       "      <td>...</td>\n",
       "      <td>...</td>\n",
       "      <td>...</td>\n",
       "      <td>...</td>\n",
       "      <td>...</td>\n",
       "    </tr>\n",
       "    <tr>\n",
       "      <th>223543</th>\n",
       "      <td>fff8f521a7dbcd47</td>\n",
       "      <td>shut down the mexican border withought looking...</td>\n",
       "      <td>0</td>\n",
       "      <td>0</td>\n",
       "      <td>0</td>\n",
       "      <td>0</td>\n",
       "      <td>0</td>\n",
       "      <td>0</td>\n",
       "    </tr>\n",
       "    <tr>\n",
       "      <th>223544</th>\n",
       "      <td>fff8f64043129fa2</td>\n",
       "      <td>:Jerome, I see you never got around to this…! ...</td>\n",
       "      <td>0</td>\n",
       "      <td>0</td>\n",
       "      <td>0</td>\n",
       "      <td>0</td>\n",
       "      <td>0</td>\n",
       "      <td>0</td>\n",
       "    </tr>\n",
       "    <tr>\n",
       "      <th>223545</th>\n",
       "      <td>fff9d70fe0722906</td>\n",
       "      <td>==Lucky bastard== \\n http://wikimediafoundatio...</td>\n",
       "      <td>0</td>\n",
       "      <td>0</td>\n",
       "      <td>0</td>\n",
       "      <td>0</td>\n",
       "      <td>0</td>\n",
       "      <td>0</td>\n",
       "    </tr>\n",
       "    <tr>\n",
       "      <th>223546</th>\n",
       "      <td>fffa8a11c4378854</td>\n",
       "      <td>==shame on you all!!!== \\n\\n You want to speak...</td>\n",
       "      <td>0</td>\n",
       "      <td>0</td>\n",
       "      <td>0</td>\n",
       "      <td>0</td>\n",
       "      <td>0</td>\n",
       "      <td>0</td>\n",
       "    </tr>\n",
       "    <tr>\n",
       "      <th>223548</th>\n",
       "      <td>fffb5451268fb5ba</td>\n",
       "      <td>\" \\n\\n == Unicorn lair discovery == \\n\\n Suppo...</td>\n",
       "      <td>0</td>\n",
       "      <td>0</td>\n",
       "      <td>0</td>\n",
       "      <td>0</td>\n",
       "      <td>0</td>\n",
       "      <td>0</td>\n",
       "    </tr>\n",
       "  </tbody>\n",
       "</table>\n",
       "<p>201081 rows × 8 columns</p>\n",
       "</div>"
      ],
      "text/plain": [
       "                      id                                       comment_text  \\\n",
       "0       0000997932d777bf  Explanation\\nWhy the edits made under my usern...   \n",
       "1       000103f0d9cfb60f  D'aww! He matches this background colour I'm s...   \n",
       "2       000113f07ec002fd  Hey man, I'm really not trying to edit war. It...   \n",
       "3       0001b41b1c6bb37e  \"\\nMore\\nI can't make any real suggestions on ...   \n",
       "4       0001d958c54c6e35  You, sir, are my hero. Any chance you remember...   \n",
       "...                  ...                                                ...   \n",
       "223543  fff8f521a7dbcd47  shut down the mexican border withought looking...   \n",
       "223544  fff8f64043129fa2  :Jerome, I see you never got around to this…! ...   \n",
       "223545  fff9d70fe0722906  ==Lucky bastard== \\n http://wikimediafoundatio...   \n",
       "223546  fffa8a11c4378854  ==shame on you all!!!== \\n\\n You want to speak...   \n",
       "223548  fffb5451268fb5ba  \" \\n\\n == Unicorn lair discovery == \\n\\n Suppo...   \n",
       "\n",
       "        toxic  severe_toxic  obscene  threat  insult  identity_hate  \n",
       "0           0             0        0       0       0              0  \n",
       "1           0             0        0       0       0              0  \n",
       "2           0             0        0       0       0              0  \n",
       "3           0             0        0       0       0              0  \n",
       "4           0             0        0       0       0              0  \n",
       "...       ...           ...      ...     ...     ...            ...  \n",
       "223543      0             0        0       0       0              0  \n",
       "223544      0             0        0       0       0              0  \n",
       "223545      0             0        0       0       0              0  \n",
       "223546      0             0        0       0       0              0  \n",
       "223548      0             0        0       0       0              0  \n",
       "\n",
       "[201081 rows x 8 columns]"
      ]
     },
     "execution_count": 11,
     "metadata": {},
     "output_type": "execute_result"
    }
   ],
   "source": [
    "#search for all features that are 0\n",
    "df[(df['toxic']==0)&(df['severe_toxic']==0)&(df['obscene']==0)&(df['threat']==0)&(df['insult']==0)&(df['identity_hate']==0)]"
   ]
  },
  {
   "cell_type": "code",
   "execution_count": 12,
   "id": "bab0acf2",
   "metadata": {},
   "outputs": [
    {
     "data": {
      "text/plain": [
       "\"Why can't you believe how fat Artie is? Did you see him on his recent appearence on the Tonight Show with Jay Leno? He looks absolutely AWFUL! If I had to put money on it, I'd say that Artie Lange is a can't miss candidate for the 2007 Dead pool!   \\n\\n  \\nKindly keep your malicious fingers off of my above comment, . Everytime you remove it, I will repost it!!!\""
      ]
     },
     "execution_count": 12,
     "metadata": {},
     "output_type": "execute_result"
    }
   ],
   "source": [
    "df.loc[59]['comment_text']"
   ]
  },
  {
   "cell_type": "code",
   "execution_count": 13,
   "id": "08760b1a",
   "metadata": {},
   "outputs": [],
   "source": [
    "#create a condition to be used to create the labels\n",
    "conditions = [(df['toxic']==0)&(df['severe_toxic']==0)&(df['obscene']==0)&(df['threat']==0)&(df['insult']==0)&(df['identity_hate']==0),\n",
    "             (df['toxic']==1)&(df['severe_toxic']==0)&(df['obscene']==0)&(df['threat']==0)&(df['insult']==1)&(df['identity_hate']==0),\n",
    "             (df['toxic']==1)&(df['severe_toxic']==1)&(df['obscene']==1)&(df['threat']==1)&(df['insult']==1)&(df['identity_hate']==1)]"
   ]
  },
  {
   "cell_type": "code",
   "execution_count": 14,
   "id": "c13dd5ec",
   "metadata": {},
   "outputs": [],
   "source": [
    "#names of the labels\n",
    "values = ['non risky', 'potentially risky', 'too risky']"
   ]
  },
  {
   "cell_type": "code",
   "execution_count": 15,
   "id": "281cc055",
   "metadata": {},
   "outputs": [],
   "source": [
    "#create the labels based on tehe above conidtions\n",
    "df['labels'] = np.select(conditions, values)"
   ]
  },
  {
   "cell_type": "code",
   "execution_count": 16,
   "id": "9a792c12",
   "metadata": {},
   "outputs": [
    {
     "data": {
      "text/plain": [
       "non risky            201081\n",
       "0                     20669\n",
       "potentially risky      1754\n",
       "too risky                45\n",
       "Name: labels, dtype: int64"
      ]
     },
     "execution_count": 16,
     "metadata": {},
     "output_type": "execute_result"
    }
   ],
   "source": [
    "#distribution of the labels\n",
    "df['labels'].value_counts()"
   ]
  },
  {
   "cell_type": "code",
   "execution_count": 17,
   "id": "f53ce252",
   "metadata": {},
   "outputs": [],
   "source": [
    "#some of the data did now belong to any category based on the condition, yet they are suppposed to be too risky\n",
    "df['labels'] = df['labels'].replace({'0':'too risky'})"
   ]
  },
  {
   "cell_type": "code",
   "execution_count": 18,
   "id": "b823bf41",
   "metadata": {},
   "outputs": [
    {
     "data": {
      "text/plain": [
       "non risky            89.949407\n",
       "too risky             9.265977\n",
       "potentially risky     0.784615\n",
       "Name: labels, dtype: float64"
      ]
     },
     "execution_count": 18,
     "metadata": {},
     "output_type": "execute_result"
    }
   ],
   "source": [
    "#distribution of labels\n",
    "(df['labels'].value_counts(dropna=False, normalize=True))*100"
   ]
  },
  {
   "cell_type": "code",
   "execution_count": 19,
   "id": "e2c361dd",
   "metadata": {},
   "outputs": [],
   "source": [
    "#convert labels into numerical format as requested in the repo\n",
    "df['labels'] = df['labels'].map({'non risky':'0','potentially risky':'1','too risky':'2'})"
   ]
  },
  {
   "cell_type": "code",
   "execution_count": 20,
   "id": "d18034c8",
   "metadata": {},
   "outputs": [
    {
     "data": {
      "text/plain": [
       "0    89.949407\n",
       "2     9.265977\n",
       "1     0.784615\n",
       "Name: labels, dtype: float64"
      ]
     },
     "execution_count": 20,
     "metadata": {},
     "output_type": "execute_result"
    }
   ],
   "source": [
    "#percentage distribution of labels, very imbalanced\n",
    "(df['labels'].value_counts(dropna=False, normalize=True))*100"
   ]
  },
  {
   "cell_type": "markdown",
   "id": "90dc68f0",
   "metadata": {},
   "source": [
    "### Clean sentence Training"
   ]
  },
  {
   "cell_type": "markdown",
   "id": "2981e8f7",
   "metadata": {},
   "source": [
    "#### Checking for missing values"
   ]
  },
  {
   "cell_type": "code",
   "execution_count": 21,
   "id": "cd44a1db",
   "metadata": {},
   "outputs": [
    {
     "name": "stdout",
     "output_type": "stream",
     "text": [
      "How many missing values are there? 0\n"
     ]
    }
   ],
   "source": [
    "print(f\"How many missing values are there? {df.isnull().any().sum()}\")"
   ]
  },
  {
   "cell_type": "markdown",
   "id": "ee11a63e",
   "metadata": {},
   "source": [
    "#### stopwords and lemmatizing"
   ]
  },
  {
   "cell_type": "code",
   "execution_count": 22,
   "id": "873e1649",
   "metadata": {},
   "outputs": [],
   "source": [
    "#instantiate lemmatizer\n",
    "lemmatizer = WordNetLemmatizer()"
   ]
  },
  {
   "cell_type": "code",
   "execution_count": 23,
   "id": "3ff9aa2b",
   "metadata": {},
   "outputs": [],
   "source": [
    "def clean_texts(text):\n",
    "    \"\"\"Removes digits, words containing digits, punctuations, special characters, extra spaces and links from text\n",
    "\n",
    "    Args:\n",
    "        text (str): raw texts\n",
    "    Returns:\n",
    "        text (str) : cleaned texts\n",
    "    \"\"\"\n",
    "    #removes links\n",
    "    text = re.sub(r'http*\\S+', '', text)\n",
    "    #removes digits \n",
    "    text = re.sub('\\d+','', text)\n",
    "    #removes punctuations and special characters\n",
    "    text = re.sub('[^a-zA-Z]+', ' ', text)\n",
    "    return text"
   ]
  },
  {
   "cell_type": "code",
   "execution_count": 24,
   "id": "db8cb1a8",
   "metadata": {},
   "outputs": [],
   "source": [
    "df['cleaned_texts'] = df['comment_text'].apply(clean_texts)   "
   ]
  },
  {
   "cell_type": "code",
   "execution_count": 25,
   "id": "70510cf5",
   "metadata": {},
   "outputs": [],
   "source": [
    "#select only the cleaned_texts column\n",
    "texts = df['cleaned_texts']\n",
    "#convert to dataframe\n",
    "texts = pd.DataFrame(texts)\n",
    "#create empty list to hold the final output\n",
    "corpus = []\n",
    "#loop through each row of comments\n",
    "for i in range(0, len(texts)):\n",
    "    #tokenize the text\n",
    "    review = texts['cleaned_texts'][i].split()\n",
    "    #remove stopwords and lemmatize\n",
    "    text_stopwords_lemmatized = [lemmatizer.lemmatize(word) for word in review if not word in stopwords.words('english')]\n",
    "    #combine the tokenized texts\n",
    "    text_stopwords_lemmatized = ' '.join(text_stopwords_lemmatized)\n",
    "    #put final result into the corpus list\n",
    "    corpus.append(text_stopwords_lemmatized)"
   ]
  },
  {
   "cell_type": "code",
   "execution_count": 26,
   "id": "c2a50a16",
   "metadata": {},
   "outputs": [],
   "source": [
    "#create dataframe with the appropriate name as accoridng to repo guidelines\n",
    "corpus = pd.DataFrame(corpus, columns=['clean_sentence_training'])"
   ]
  },
  {
   "cell_type": "code",
   "execution_count": 27,
   "id": "329760a4",
   "metadata": {},
   "outputs": [],
   "source": [
    "#merge the main dataframe with the cleaned one\n",
    "df = pd.concat([df, corpus], axis=1)"
   ]
  },
  {
   "cell_type": "code",
   "execution_count": 47,
   "id": "e7d752a0",
   "metadata": {},
   "outputs": [],
   "source": [
    "#function to compare the raw texts to the cleaned\n",
    "def compare(df, index):\n",
    "    \"\"\"Compares the raw text to the cleaned text\n",
    "\n",
    "    Args:\n",
    "        df (pandas dataframe): dataframe containing raw texts and cleaned texts\n",
    "        index (int) : position of comment in the dataframe\n",
    "    Returns:\n",
    "        None\n",
    "    \"\"\"\n",
    "    print('RAW TEXT')\n",
    "    print(df.loc[index]['comment_text'])\n",
    "    print('\\n\\n')\n",
    "    print('CLEANED TEXT FOR TRAINING')\n",
    "    print(df.loc[index]['clean_sentence_training'])"
   ]
  },
  {
   "cell_type": "code",
   "execution_count": 48,
   "id": "9ea2f135",
   "metadata": {},
   "outputs": [
    {
     "name": "stdout",
     "output_type": "stream",
     "text": [
      "RAW TEXT\n",
      "You are gay or antisemmitian? \n",
      "\n",
      "Archangel WHite Tiger\n",
      "\n",
      "Meow! Greetingshhh!\n",
      "\n",
      "Uh, there are two ways, why you do erased my comment about WW2, that holocaust was brutally slaying of Jews and not gays/Gypsys/Slavs/anyone...\n",
      "\n",
      "1 - If you are anti-semitian, than shave your head bald and go to the skinhead meetings!\n",
      "\n",
      "2 - If you doubt words of the Bible, that homosexuality is a deadly sin, make a pentagram tatoo on your forehead go to the satanistic masses with your gay pals!\n",
      "\n",
      "3 - First and last warning, you fucking gay - I won't appreciate if any more nazi shwain would write in my page! I don't wish to talk to you anymore!\n",
      "\n",
      "Beware of the Dark Side!\n",
      "\n",
      "\n",
      "\n",
      "CLEANED TEXT FOR TRAINING\n",
      "You gay antisemmitian Archangel WHite Tiger Meow Greetingshhh Uh two way erased comment WW holocaust brutally slaying Jews gay Gypsys Slavs anyone If anti semitian shave head bald go skinhead meeting If doubt word Bible homosexuality deadly sin make pentagram tatoo forehead go satanistic mass gay pal First last warning fucking gay I appreciate nazi shwain would write page I wish talk anymore Beware Dark Side\n"
     ]
    }
   ],
   "source": [
    "compare(df, 42)"
   ]
  },
  {
   "cell_type": "code",
   "execution_count": 49,
   "id": "e4dcd8d9",
   "metadata": {},
   "outputs": [],
   "source": [
    "#function to check for emojis\n",
    "def extract_emojis(s):\n",
    "    \"\"\"Checks if there are any emojis present\n",
    "\n",
    "    Args:\n",
    "        s (pandas series): column containing the texts\n",
    "    Returns:\n",
    "        result (list) : list containing emoji values if present, if not, empty string\n",
    "    \"\"\"    \n",
    "    result= ''.join(c for c in s if c in emoji.EMOJI_DATA)\n",
    "    return result"
   ]
  },
  {
   "cell_type": "code",
   "execution_count": 50,
   "id": "8be6e9f8",
   "metadata": {},
   "outputs": [
    {
     "data": {
      "text/plain": [
       "''"
      ]
     },
     "execution_count": 50,
     "metadata": {},
     "output_type": "execute_result"
    }
   ],
   "source": [
    "extract_emojis(df['comment_text'])"
   ]
  },
  {
   "cell_type": "code",
   "execution_count": 51,
   "id": "85285f8f",
   "metadata": {},
   "outputs": [],
   "source": [
    "#rename columns to match the appropriate format requested in the repo\n",
    "df = df.rename(columns={'comment_text':'raw_sentence','labels':'label'})"
   ]
  },
  {
   "cell_type": "code",
   "execution_count": 52,
   "id": "f73b5f5b",
   "metadata": {},
   "outputs": [],
   "source": [
    "#make a column called corpus that contains the text Toxic Comment Classification Challenge\n",
    "df = df.assign(corpus_name = lambda x:'Toxic Comment Classification Challenge')"
   ]
  },
  {
   "cell_type": "code",
   "execution_count": 53,
   "id": "947c8a2d",
   "metadata": {},
   "outputs": [
    {
     "data": {
      "text/html": [
       "<div>\n",
       "<style scoped>\n",
       "    .dataframe tbody tr th:only-of-type {\n",
       "        vertical-align: middle;\n",
       "    }\n",
       "\n",
       "    .dataframe tbody tr th {\n",
       "        vertical-align: top;\n",
       "    }\n",
       "\n",
       "    .dataframe thead th {\n",
       "        text-align: right;\n",
       "    }\n",
       "</style>\n",
       "<table border=\"1\" class=\"dataframe\">\n",
       "  <thead>\n",
       "    <tr style=\"text-align: right;\">\n",
       "      <th></th>\n",
       "      <th>id</th>\n",
       "      <th>raw_sentence</th>\n",
       "      <th>toxic</th>\n",
       "      <th>severe_toxic</th>\n",
       "      <th>obscene</th>\n",
       "      <th>threat</th>\n",
       "      <th>insult</th>\n",
       "      <th>identity_hate</th>\n",
       "      <th>label</th>\n",
       "      <th>cleaned_texts</th>\n",
       "      <th>clean_sentence_training</th>\n",
       "      <th>corpus_name</th>\n",
       "    </tr>\n",
       "  </thead>\n",
       "  <tbody>\n",
       "    <tr>\n",
       "      <th>0</th>\n",
       "      <td>0000997932d777bf</td>\n",
       "      <td>Explanation\\nWhy the edits made under my usern...</td>\n",
       "      <td>0</td>\n",
       "      <td>0</td>\n",
       "      <td>0</td>\n",
       "      <td>0</td>\n",
       "      <td>0</td>\n",
       "      <td>0</td>\n",
       "      <td>0</td>\n",
       "      <td>Explanation Why the edits made under my userna...</td>\n",
       "      <td>Explanation Why edits made username Hardcore M...</td>\n",
       "      <td>Toxic Comment Classification Challenge</td>\n",
       "    </tr>\n",
       "    <tr>\n",
       "      <th>1</th>\n",
       "      <td>000103f0d9cfb60f</td>\n",
       "      <td>D'aww! He matches this background colour I'm s...</td>\n",
       "      <td>0</td>\n",
       "      <td>0</td>\n",
       "      <td>0</td>\n",
       "      <td>0</td>\n",
       "      <td>0</td>\n",
       "      <td>0</td>\n",
       "      <td>0</td>\n",
       "      <td>D aww He matches this background colour I m se...</td>\n",
       "      <td>D aww He match background colour I seemingly s...</td>\n",
       "      <td>Toxic Comment Classification Challenge</td>\n",
       "    </tr>\n",
       "  </tbody>\n",
       "</table>\n",
       "</div>"
      ],
      "text/plain": [
       "                 id                                       raw_sentence  toxic  \\\n",
       "0  0000997932d777bf  Explanation\\nWhy the edits made under my usern...      0   \n",
       "1  000103f0d9cfb60f  D'aww! He matches this background colour I'm s...      0   \n",
       "\n",
       "   severe_toxic  obscene  threat  insult  identity_hate label  \\\n",
       "0             0        0       0       0              0     0   \n",
       "1             0        0       0       0              0     0   \n",
       "\n",
       "                                       cleaned_texts  \\\n",
       "0  Explanation Why the edits made under my userna...   \n",
       "1  D aww He matches this background colour I m se...   \n",
       "\n",
       "                             clean_sentence_training  \\\n",
       "0  Explanation Why edits made username Hardcore M...   \n",
       "1  D aww He match background colour I seemingly s...   \n",
       "\n",
       "                              corpus_name  \n",
       "0  Toxic Comment Classification Challenge  \n",
       "1  Toxic Comment Classification Challenge  "
      ]
     },
     "execution_count": 53,
     "metadata": {},
     "output_type": "execute_result"
    }
   ],
   "source": [
    "df.head(2)"
   ]
  },
  {
   "cell_type": "code",
   "execution_count": 54,
   "id": "9655bb30",
   "metadata": {},
   "outputs": [],
   "source": [
    "#duplicate the clean_sentence_training, to become clean_sentence_EDA since there were no emojis\n",
    "df['clean_sentence_EDA'] = df['clean_sentence_training'] "
   ]
  },
  {
   "cell_type": "code",
   "execution_count": 55,
   "id": "f3f67492",
   "metadata": {},
   "outputs": [],
   "source": [
    "#select only relevant columns\n",
    "df = df[['corpus_name','raw_sentence','label','clean_sentence_training','clean_sentence_EDA']]"
   ]
  },
  {
   "cell_type": "code",
   "execution_count": 56,
   "id": "af0794d5",
   "metadata": {},
   "outputs": [
    {
     "data": {
      "text/html": [
       "<div>\n",
       "<style scoped>\n",
       "    .dataframe tbody tr th:only-of-type {\n",
       "        vertical-align: middle;\n",
       "    }\n",
       "\n",
       "    .dataframe tbody tr th {\n",
       "        vertical-align: top;\n",
       "    }\n",
       "\n",
       "    .dataframe thead th {\n",
       "        text-align: right;\n",
       "    }\n",
       "</style>\n",
       "<table border=\"1\" class=\"dataframe\">\n",
       "  <thead>\n",
       "    <tr style=\"text-align: right;\">\n",
       "      <th></th>\n",
       "      <th>corpus_name</th>\n",
       "      <th>raw_sentence</th>\n",
       "      <th>label</th>\n",
       "      <th>clean_sentence_training</th>\n",
       "      <th>clean_sentence_EDA</th>\n",
       "    </tr>\n",
       "  </thead>\n",
       "  <tbody>\n",
       "    <tr>\n",
       "      <th>0</th>\n",
       "      <td>Toxic Comment Classification Challenge</td>\n",
       "      <td>Explanation\\nWhy the edits made under my usern...</td>\n",
       "      <td>0</td>\n",
       "      <td>Explanation Why edits made username Hardcore M...</td>\n",
       "      <td>Explanation Why edits made username Hardcore M...</td>\n",
       "    </tr>\n",
       "    <tr>\n",
       "      <th>1</th>\n",
       "      <td>Toxic Comment Classification Challenge</td>\n",
       "      <td>D'aww! He matches this background colour I'm s...</td>\n",
       "      <td>0</td>\n",
       "      <td>D aww He match background colour I seemingly s...</td>\n",
       "      <td>D aww He match background colour I seemingly s...</td>\n",
       "    </tr>\n",
       "    <tr>\n",
       "      <th>2</th>\n",
       "      <td>Toxic Comment Classification Challenge</td>\n",
       "      <td>Hey man, I'm really not trying to edit war. It...</td>\n",
       "      <td>0</td>\n",
       "      <td>Hey man I really trying edit war It guy consta...</td>\n",
       "      <td>Hey man I really trying edit war It guy consta...</td>\n",
       "    </tr>\n",
       "    <tr>\n",
       "      <th>3</th>\n",
       "      <td>Toxic Comment Classification Challenge</td>\n",
       "      <td>\"\\nMore\\nI can't make any real suggestions on ...</td>\n",
       "      <td>0</td>\n",
       "      <td>More I make real suggestion improvement I wond...</td>\n",
       "      <td>More I make real suggestion improvement I wond...</td>\n",
       "    </tr>\n",
       "    <tr>\n",
       "      <th>4</th>\n",
       "      <td>Toxic Comment Classification Challenge</td>\n",
       "      <td>You, sir, are my hero. Any chance you remember...</td>\n",
       "      <td>0</td>\n",
       "      <td>You sir hero Any chance remember page</td>\n",
       "      <td>You sir hero Any chance remember page</td>\n",
       "    </tr>\n",
       "    <tr>\n",
       "      <th>...</th>\n",
       "      <td>...</td>\n",
       "      <td>...</td>\n",
       "      <td>...</td>\n",
       "      <td>...</td>\n",
       "      <td>...</td>\n",
       "    </tr>\n",
       "    <tr>\n",
       "      <th>223544</th>\n",
       "      <td>Toxic Comment Classification Challenge</td>\n",
       "      <td>:Jerome, I see you never got around to this…! ...</td>\n",
       "      <td>0</td>\n",
       "      <td>Jerome I see never got around I surprised I lo...</td>\n",
       "      <td>Jerome I see never got around I surprised I lo...</td>\n",
       "    </tr>\n",
       "    <tr>\n",
       "      <th>223545</th>\n",
       "      <td>Toxic Comment Classification Challenge</td>\n",
       "      <td>==Lucky bastard== \\n http://wikimediafoundatio...</td>\n",
       "      <td>0</td>\n",
       "      <td>Lucky bastard Heh famous I kida envy Congrats</td>\n",
       "      <td>Lucky bastard Heh famous I kida envy Congrats</td>\n",
       "    </tr>\n",
       "    <tr>\n",
       "      <th>223546</th>\n",
       "      <td>Toxic Comment Classification Challenge</td>\n",
       "      <td>==shame on you all!!!== \\n\\n You want to speak...</td>\n",
       "      <td>0</td>\n",
       "      <td>shame You want speak gay romanian</td>\n",
       "      <td>shame You want speak gay romanian</td>\n",
       "    </tr>\n",
       "    <tr>\n",
       "      <th>223547</th>\n",
       "      <td>Toxic Comment Classification Challenge</td>\n",
       "      <td>MEL GIBSON IS A NAZI BITCH WHO MAKES SHITTY MO...</td>\n",
       "      <td>2</td>\n",
       "      <td>MEL GIBSON IS A NAZI BITCH WHO MAKES SHITTY MO...</td>\n",
       "      <td>MEL GIBSON IS A NAZI BITCH WHO MAKES SHITTY MO...</td>\n",
       "    </tr>\n",
       "    <tr>\n",
       "      <th>223548</th>\n",
       "      <td>Toxic Comment Classification Challenge</td>\n",
       "      <td>\" \\n\\n == Unicorn lair discovery == \\n\\n Suppo...</td>\n",
       "      <td>0</td>\n",
       "      <td>Unicorn lair discovery Supposedly unicorn lair...</td>\n",
       "      <td>Unicorn lair discovery Supposedly unicorn lair...</td>\n",
       "    </tr>\n",
       "  </tbody>\n",
       "</table>\n",
       "<p>223549 rows × 5 columns</p>\n",
       "</div>"
      ],
      "text/plain": [
       "                                   corpus_name  \\\n",
       "0       Toxic Comment Classification Challenge   \n",
       "1       Toxic Comment Classification Challenge   \n",
       "2       Toxic Comment Classification Challenge   \n",
       "3       Toxic Comment Classification Challenge   \n",
       "4       Toxic Comment Classification Challenge   \n",
       "...                                        ...   \n",
       "223544  Toxic Comment Classification Challenge   \n",
       "223545  Toxic Comment Classification Challenge   \n",
       "223546  Toxic Comment Classification Challenge   \n",
       "223547  Toxic Comment Classification Challenge   \n",
       "223548  Toxic Comment Classification Challenge   \n",
       "\n",
       "                                             raw_sentence label  \\\n",
       "0       Explanation\\nWhy the edits made under my usern...     0   \n",
       "1       D'aww! He matches this background colour I'm s...     0   \n",
       "2       Hey man, I'm really not trying to edit war. It...     0   \n",
       "3       \"\\nMore\\nI can't make any real suggestions on ...     0   \n",
       "4       You, sir, are my hero. Any chance you remember...     0   \n",
       "...                                                   ...   ...   \n",
       "223544  :Jerome, I see you never got around to this…! ...     0   \n",
       "223545  ==Lucky bastard== \\n http://wikimediafoundatio...     0   \n",
       "223546  ==shame on you all!!!== \\n\\n You want to speak...     0   \n",
       "223547  MEL GIBSON IS A NAZI BITCH WHO MAKES SHITTY MO...     2   \n",
       "223548  \" \\n\\n == Unicorn lair discovery == \\n\\n Suppo...     0   \n",
       "\n",
       "                                  clean_sentence_training  \\\n",
       "0       Explanation Why edits made username Hardcore M...   \n",
       "1       D aww He match background colour I seemingly s...   \n",
       "2       Hey man I really trying edit war It guy consta...   \n",
       "3       More I make real suggestion improvement I wond...   \n",
       "4                   You sir hero Any chance remember page   \n",
       "...                                                   ...   \n",
       "223544  Jerome I see never got around I surprised I lo...   \n",
       "223545      Lucky bastard Heh famous I kida envy Congrats   \n",
       "223546                  shame You want speak gay romanian   \n",
       "223547  MEL GIBSON IS A NAZI BITCH WHO MAKES SHITTY MO...   \n",
       "223548  Unicorn lair discovery Supposedly unicorn lair...   \n",
       "\n",
       "                                       clean_sentence_EDA  \n",
       "0       Explanation Why edits made username Hardcore M...  \n",
       "1       D aww He match background colour I seemingly s...  \n",
       "2       Hey man I really trying edit war It guy consta...  \n",
       "3       More I make real suggestion improvement I wond...  \n",
       "4                   You sir hero Any chance remember page  \n",
       "...                                                   ...  \n",
       "223544  Jerome I see never got around I surprised I lo...  \n",
       "223545      Lucky bastard Heh famous I kida envy Congrats  \n",
       "223546                  shame You want speak gay romanian  \n",
       "223547  MEL GIBSON IS A NAZI BITCH WHO MAKES SHITTY MO...  \n",
       "223548  Unicorn lair discovery Supposedly unicorn lair...  \n",
       "\n",
       "[223549 rows x 5 columns]"
      ]
     },
     "execution_count": 56,
     "metadata": {},
     "output_type": "execute_result"
    }
   ],
   "source": [
    "df"
   ]
  },
  {
   "cell_type": "code",
   "execution_count": null,
   "id": "2c1978ff",
   "metadata": {},
   "outputs": [],
   "source": [
    "#saves to disk\n",
    "#df.to_csv('Toxic Comment Classification Challenge.csv')"
   ]
  },
  {
   "cell_type": "code",
   "execution_count": null,
   "id": "016d0471",
   "metadata": {},
   "outputs": [],
   "source": []
  }
 ],
 "metadata": {
  "kernelspec": {
   "display_name": "Python 3 (ipykernel)",
   "language": "python",
   "name": "python3"
  },
  "language_info": {
   "codemirror_mode": {
    "name": "ipython",
    "version": 3
   },
   "file_extension": ".py",
   "mimetype": "text/x-python",
   "name": "python",
   "nbconvert_exporter": "python",
   "pygments_lexer": "ipython3",
   "version": "3.8.12"
  }
 },
 "nbformat": 4,
 "nbformat_minor": 5
}
