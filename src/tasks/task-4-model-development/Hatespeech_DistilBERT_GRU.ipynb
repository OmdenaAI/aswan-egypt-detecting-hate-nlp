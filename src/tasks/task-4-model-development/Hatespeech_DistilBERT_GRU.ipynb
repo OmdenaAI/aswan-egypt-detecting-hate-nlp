{
  "nbformat": 4,
  "nbformat_minor": 0,
  "metadata": {
    "colab": {
      "provenance": [],
      "machine_shape": "hm"
    },
    "kernelspec": {
      "name": "python3",
      "display_name": "Python 3"
    },
    "language_info": {
      "name": "python"
    },
    "accelerator": "GPU",
    "gpuClass": "standard"
  },
  "cells": [
    {
      "cell_type": "code",
      "source": [
        "!pip install transformers"
      ],
      "metadata": {
        "colab": {
          "base_uri": "https://localhost:8080/"
        },
        "id": "tIlND3_YeUJX",
        "outputId": "f489f2d9-3029-4cd6-e7fc-727ada9e6746"
      },
      "execution_count": null,
      "outputs": [
        {
          "output_type": "stream",
          "name": "stdout",
          "text": [
            "Looking in indexes: https://pypi.org/simple, https://us-python.pkg.dev/colab-wheels/public/simple/\n",
            "Requirement already satisfied: transformers in /usr/local/lib/python3.9/dist-packages (4.27.4)\n",
            "Requirement already satisfied: filelock in /usr/local/lib/python3.9/dist-packages (from transformers) (3.10.7)\n",
            "Requirement already satisfied: tokenizers!=0.11.3,<0.14,>=0.11.1 in /usr/local/lib/python3.9/dist-packages (from transformers) (0.13.3)\n",
            "Requirement already satisfied: packaging>=20.0 in /usr/local/lib/python3.9/dist-packages (from transformers) (23.0)\n",
            "Requirement already satisfied: requests in /usr/local/lib/python3.9/dist-packages (from transformers) (2.27.1)\n",
            "Requirement already satisfied: regex!=2019.12.17 in /usr/local/lib/python3.9/dist-packages (from transformers) (2022.10.31)\n",
            "Requirement already satisfied: huggingface-hub<1.0,>=0.11.0 in /usr/local/lib/python3.9/dist-packages (from transformers) (0.13.3)\n",
            "Requirement already satisfied: pyyaml>=5.1 in /usr/local/lib/python3.9/dist-packages (from transformers) (6.0)\n",
            "Requirement already satisfied: numpy>=1.17 in /usr/local/lib/python3.9/dist-packages (from transformers) (1.22.4)\n",
            "Requirement already satisfied: tqdm>=4.27 in /usr/local/lib/python3.9/dist-packages (from transformers) (4.65.0)\n",
            "Requirement already satisfied: typing-extensions>=3.7.4.3 in /usr/local/lib/python3.9/dist-packages (from huggingface-hub<1.0,>=0.11.0->transformers) (4.5.0)\n",
            "Requirement already satisfied: charset-normalizer~=2.0.0 in /usr/local/lib/python3.9/dist-packages (from requests->transformers) (2.0.12)\n",
            "Requirement already satisfied: urllib3<1.27,>=1.21.1 in /usr/local/lib/python3.9/dist-packages (from requests->transformers) (1.26.15)\n",
            "Requirement already satisfied: idna<4,>=2.5 in /usr/local/lib/python3.9/dist-packages (from requests->transformers) (3.4)\n",
            "Requirement already satisfied: certifi>=2017.4.17 in /usr/local/lib/python3.9/dist-packages (from requests->transformers) (2022.12.7)\n"
          ]
        }
      ]
    },
    {
      "cell_type": "code",
      "execution_count": null,
      "metadata": {
        "id": "X_sIpoWMdLFt"
      },
      "outputs": [],
      "source": [
        "import numpy as np\n",
        "import pandas as pd\n",
        "import tensorflow as tf\n",
        "from transformers import DistilBertTokenizer, TFDistilBertModel\n",
        "from tensorflow.keras.layers import Input, Dense, LSTM, Dropout, GlobalMaxPooling1D, Bidirectional\n",
        "from tensorflow.keras.models import Model\n",
        "from tensorflow.keras.optimizers import Adam\n",
        "from tensorflow.keras.callbacks import EarlyStopping\n",
        "from sklearn.model_selection import train_test_split\n",
        "from tensorflow.keras.layers import GRU\n",
        "\n"
      ]
    },
    {
      "cell_type": "code",
      "source": [
        "df_train=pd.read_csv('train-data.csv')\n",
        "df_test=pd.read_csv('test-data.csv')"
      ],
      "metadata": {
        "id": "Y7yAubPAG3nb"
      },
      "execution_count": null,
      "outputs": []
    },
    {
      "cell_type": "code",
      "source": [
        "df_train.isna().sum()"
      ],
      "metadata": {
        "colab": {
          "base_uri": "https://localhost:8080/"
        },
        "id": "-LFVBVLcHDgW",
        "outputId": "64996ce3-1bb4-4922-c76f-e3a1a057de72"
      },
      "execution_count": null,
      "outputs": [
        {
          "output_type": "execute_result",
          "data": {
            "text/plain": [
              "Unnamed: 0        0\n",
              "clean training    0\n",
              "label             0\n",
              "dtype: int64"
            ]
          },
          "metadata": {},
          "execution_count": 4
        }
      ]
    },
    {
      "cell_type": "code",
      "source": [
        "df_train=df_train.dropna()"
      ],
      "metadata": {
        "id": "LJcQk5F5HHV7"
      },
      "execution_count": null,
      "outputs": []
    },
    {
      "cell_type": "code",
      "source": [
        "df_train= df_train.astype({'label': int})"
      ],
      "metadata": {
        "id": "yXC28ff2HZxl"
      },
      "execution_count": null,
      "outputs": []
    },
    {
      "cell_type": "code",
      "source": [
        "df_test.isna().sum()"
      ],
      "metadata": {
        "colab": {
          "base_uri": "https://localhost:8080/"
        },
        "id": "AVWEVldJHdu9",
        "outputId": "55c7eb15-c25d-433b-e14c-cdb2de7beedc"
      },
      "execution_count": null,
      "outputs": [
        {
          "output_type": "execute_result",
          "data": {
            "text/plain": [
              "Unnamed: 0        0\n",
              "clean training    0\n",
              "label             0\n",
              "dtype: int64"
            ]
          },
          "metadata": {},
          "execution_count": 7
        }
      ]
    },
    {
      "cell_type": "code",
      "source": [
        "# Define BERT tokenizer and model\n",
        "tokenizer = DistilBertTokenizer.from_pretrained('distilbert-base-uncased')\n",
        "bert_model = TFDistilBertModel.from_pretrained('distilbert-base-uncased')\n"
      ],
      "metadata": {
        "colab": {
          "base_uri": "https://localhost:8080/"
        },
        "id": "xx935u2OfR1y",
        "outputId": "15c78ff0-f40d-43ee-98d9-d48cf1d8c4f6"
      },
      "execution_count": null,
      "outputs": [
        {
          "output_type": "stream",
          "name": "stderr",
          "text": [
            "Some layers from the model checkpoint at distilbert-base-uncased were not used when initializing TFDistilBertModel: ['vocab_transform', 'activation_13', 'vocab_layer_norm', 'vocab_projector']\n",
            "- This IS expected if you are initializing TFDistilBertModel from the checkpoint of a model trained on another task or with another architecture (e.g. initializing a BertForSequenceClassification model from a BertForPreTraining model).\n",
            "- This IS NOT expected if you are initializing TFDistilBertModel from the checkpoint of a model that you expect to be exactly identical (initializing a BertForSequenceClassification model from a BertForSequenceClassification model).\n",
            "All the layers of TFDistilBertModel were initialized from the model checkpoint at distilbert-base-uncased.\n",
            "If your task is similar to the task the model of the checkpoint was trained on, you can already use TFDistilBertModel for predictions without further training.\n"
          ]
        }
      ]
    },
    {
      "cell_type": "code",
      "source": [
        "# Tokenize text data\n",
        "MAX_LEN = 128\n",
        "X_train_tokenized = tokenizer.batch_encode_plus(\n",
        "    df_train['clean training'].tolist(),\n",
        "    max_length=MAX_LEN,\n",
        "    padding='max_length',\n",
        "    truncation=True,\n",
        "    return_attention_mask=True,\n",
        "    return_token_type_ids=False\n",
        ")\n",
        "X_test_tokenized = tokenizer.batch_encode_plus(\n",
        "    df_test['clean training'].tolist(),\n",
        "    max_length=MAX_LEN,\n",
        "    padding='max_length',\n",
        "    truncation=True,\n",
        "    return_attention_mask=True,\n",
        "    return_token_type_ids=False\n",
        ")"
      ],
      "metadata": {
        "id": "SLc1EFWifb0j"
      },
      "execution_count": null,
      "outputs": []
    },
    {
      "cell_type": "code",
      "source": [
        "# Create input tensors\n",
        "attention_masks = np.array(X_train_tokenized['attention_mask'])\n",
        "X_train = np.array(X_train_tokenized['input_ids'])\n",
        "X_test = np.array(X_test_tokenized['input_ids'])\n",
        "\n",
        "y_train = np.array(df_train['label'])\n",
        "y_test = np.array(df_test['label'])"
      ],
      "metadata": {
        "id": "REBLm8bbgYsY"
      },
      "execution_count": null,
      "outputs": []
    },
    {
      "cell_type": "code",
      "source": [
        "# Define input layer for BERT model\n",
        "input_layer = Input(shape=(MAX_LEN,), dtype=tf.int32, name=\"input_ids\")\n",
        "\n",
        "# Connect tokenizer output to BERT model\n",
        "bert_output = bert_model(input_layer)[0]\n",
        "\n",
        "# Define GRU layer\n",
        "gru_layer = Bidirectional(GRU(128, return_sequences=True))(bert_output)\n",
        "# Define pooling layer\n",
        "pooling_layer = pooling_layer = GlobalMaxPooling1D()(gru_layer) # or GlobalAveragePooling1D()\n",
        "\n",
        "# Define output layer\n",
        "output_layer = Dense(3, activation='softmax')(pooling_layer)\n",
        "\n",
        "# Define the model\n",
        "model = Model(inputs=[input_layer], outputs=[output_layer])\n",
        "\n",
        "# Compile the model\n",
        "model.compile(loss='sparse_categorical_crossentropy', optimizer=Adam(learning_rate=1e-5), metrics=['accuracy'])"
      ],
      "metadata": {
        "id": "B1cmIUYogqoj"
      },
      "execution_count": null,
      "outputs": []
    },
    {
      "cell_type": "code",
      "source": [
        "# Train model\n",
        "history = model.fit(\n",
        "    x=X_train,\n",
        "    y=y_train,\n",
        "    validation_split=0.2,\n",
        "    epochs=3,\n",
        "    batch_size=16,\n",
        "    callbacks=[EarlyStopping(monitor='val_loss', patience=1, restore_best_weights=True)]\n",
        ")"
      ],
      "metadata": {
        "id": "sA9NhkcxhIqK",
        "colab": {
          "base_uri": "https://localhost:8080/"
        },
        "outputId": "70d9bc4f-5cf0-4b65-8027-49ca1cc4aff0"
      },
      "execution_count": null,
      "outputs": [
        {
          "output_type": "stream",
          "name": "stdout",
          "text": [
            "Epoch 1/3\n",
            "6094/6094 [==============================] - 1451s 238ms/step - loss: 0.2388 - accuracy: 0.8930 - val_loss: 0.4681 - val_accuracy: 0.8159\n",
            "Epoch 2/3\n",
            "6094/6094 [==============================] - 1451s 238ms/step - loss: 0.1931 - accuracy: 0.9121 - val_loss: 0.4807 - val_accuracy: 0.8185\n"
          ]
        }
      ]
    },
    {
      "cell_type": "code",
      "source": [
        "# Evaluate model on test set\n",
        "batch_size = 16  # Set batch size to the same value as used in training\n",
        "loss, accuracy = model.evaluate(X_test, y_test, batch_size=batch_size)\n",
        "print('Test accuracy:', accuracy)\n"
      ],
      "metadata": {
        "id": "y_Lab3AzhJbI",
        "colab": {
          "base_uri": "https://localhost:8080/"
        },
        "outputId": "70fb4cd8-be04-4922-fb2e-97dbde07bfe2"
      },
      "execution_count": null,
      "outputs": [
        {
          "output_type": "stream",
          "name": "stdout",
          "text": [
            "1905/1905 [==============================] - 143s 75ms/step - loss: 0.4574 - accuracy: 0.8229\n",
            "Test accuracy: 0.8228845000267029\n"
          ]
        }
      ]
    },
    {
      "cell_type": "code",
      "source": [
        "# Use model to make predictions\n",
        "text = \"Most of Asian are bad drivers\"\n",
        "text_tokenized = tokenizer.encode_plus(\n",
        "    text,\n",
        "    max_length=MAX_LEN,\n",
        "    padding='max_length',\n",
        "    truncation=True,\n",
        "    return_attention_mask=True,\n",
        "    return_token_type_ids=False\n",
        ")\n",
        "text_input = np.array(text_tokenized['input_ids']).reshape(1, -1)\n",
        "prediction = model.predict(text_input)\n",
        "predicted_label = np.argmax(prediction)\n",
        "print('Predicted label:', predicted_label)"
      ],
      "metadata": {
        "id": "el32EDzt8edb",
        "colab": {
          "base_uri": "https://localhost:8080/"
        },
        "outputId": "dc112f04-6f35-4256-f3d9-41cecdd6781a"
      },
      "execution_count": null,
      "outputs": [
        {
          "output_type": "stream",
          "name": "stdout",
          "text": [
            "1/1 [==============================] - 2s 2s/step\n",
            "Predicted label: 2\n"
          ]
        }
      ]
    },
    {
      "cell_type": "code",
      "source": [
        "y_pred = model.predict(X_test)\n",
        "\n",
        "y_pred = np.argmax(y_pred, axis=1) \n",
        "\n",
        "# Print Classification report\n",
        "from sklearn.metrics import classification_report\n",
        "print(f\"\\nClassification Report :\\n{classification_report(y_test, y_pred)}\")"
      ],
      "metadata": {
        "id": "E8TK9S7GQJym",
        "colab": {
          "base_uri": "https://localhost:8080/"
        },
        "outputId": "56b4c7cf-f370-4dc1-c2d6-d12888cfb65d"
      },
      "execution_count": null,
      "outputs": [
        {
          "output_type": "stream",
          "name": "stdout",
          "text": [
            "953/953 [==============================] - 131s 137ms/step\n",
            "\n",
            "Classification Report :\n",
            "              precision    recall  f1-score   support\n",
            "\n",
            "           0       0.84      0.91      0.87      9794\n",
            "           1       0.83      0.84      0.84     10406\n",
            "           2       0.79      0.72      0.75     10266\n",
            "\n",
            "    accuracy                           0.82     30466\n",
            "   macro avg       0.82      0.82      0.82     30466\n",
            "weighted avg       0.82      0.82      0.82     30466\n",
            "\n"
          ]
        }
      ]
    },
    {
      "cell_type": "code",
      "source": [
        "from sklearn import metrics\n",
        "import matplotlib.pyplot as plt\n",
        "\n",
        "confusion_matrix = metrics.confusion_matrix(y_test, y_pred)\n",
        "cm_display = metrics.ConfusionMatrixDisplay(confusion_matrix = confusion_matrix)\n",
        "cm_display.plot()\n",
        "plt.show()\n"
      ],
      "metadata": {
        "id": "NsxjPsOyREkq",
        "colab": {
          "base_uri": "https://localhost:8080/",
          "height": 449
        },
        "outputId": "9ecbb9d2-ff53-4f6f-9cb4-04ac5d054240"
      },
      "execution_count": null,
      "outputs": [
        {
          "output_type": "display_data",
          "data": {
            "text/plain": [
              "<Figure size 640x480 with 2 Axes>"
            ],
            "image/png": "[encoded data removed]"
          },
          "metadata": {}
        }
      ]
    }
  ]
}