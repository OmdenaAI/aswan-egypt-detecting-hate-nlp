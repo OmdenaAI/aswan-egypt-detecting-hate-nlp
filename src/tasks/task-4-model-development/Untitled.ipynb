{
 "cells": [
  {
   "cell_type": "code",
   "execution_count": 6,
   "id": "902e4026",
   "metadata": {},
   "outputs": [],
   "source": [
    "import pandas as pd\n",
    "from sklearn.model_selection import train_test_split"
   ]
  },
  {
   "cell_type": "code",
   "execution_count": 3,
   "id": "f97382e2",
   "metadata": {},
   "outputs": [
    {
     "data": {
      "text/plain": [
       "(157913, 2)"
      ]
     },
     "execution_count": 3,
     "metadata": {},
     "output_type": "execute_result"
    }
   ],
   "source": [
    "data = pd.read_csv('../task-3-feature_engineering/Dataset/model_ready_combined.csv')\n",
    "data.shape"
   ]
  },
  {
   "cell_type": "code",
   "execution_count": 5,
   "id": "a61e5052",
   "metadata": {},
   "outputs": [
    {
     "data": {
      "text/plain": [
       "(152328, 2)"
      ]
     },
     "execution_count": 5,
     "metadata": {},
     "output_type": "execute_result"
    }
   ],
   "source": [
    "data.dropna(inplace=True)\n",
    "data.drop_duplicates(inplace=True)\n",
    "data.shape"
   ]
  },
  {
   "cell_type": "code",
   "execution_count": 9,
   "id": "e815e41d",
   "metadata": {},
   "outputs": [],
   "source": [
    "train, test = train_test_split( data, test_size=0.2, random_state=42, stratify=data['label'] )"
   ]
  },
  {
   "cell_type": "code",
   "execution_count": 10,
   "id": "8ae4c759",
   "metadata": {},
   "outputs": [
    {
     "data": {
      "text/plain": [
       "((121862, 2), (30466, 2))"
      ]
     },
     "execution_count": 10,
     "metadata": {},
     "output_type": "execute_result"
    }
   ],
   "source": [
    "train.shape, test.shape"
   ]
  },
  {
   "cell_type": "code",
   "execution_count": 11,
   "id": "6dee3f6f",
   "metadata": {},
   "outputs": [],
   "source": [
    "train.to_csv('./train-data.csv')"
   ]
  },
  {
   "cell_type": "code",
   "execution_count": 12,
   "id": "2c11d0f5",
   "metadata": {},
   "outputs": [],
   "source": [
    "test.to_csv('./test-data.csv')"
   ]
  },
  {
   "cell_type": "code",
   "execution_count": null,
   "id": "f58534f9",
   "metadata": {},
   "outputs": [],
   "source": []
  }
 ],
 "metadata": {
  "kernelspec": {
   "display_name": "Python 3 (ipykernel)",
   "language": "python",
   "name": "python3"
  },
  "language_info": {
   "codemirror_mode": {
    "name": "ipython",
    "version": 3
   },
   "file_extension": ".py",
   "mimetype": "text/x-python",
   "name": "python",
   "nbconvert_exporter": "python",
   "pygments_lexer": "ipython3",
   "version": "3.8.8"
  }
 },
 "nbformat": 4,
 "nbformat_minor": 5
}
