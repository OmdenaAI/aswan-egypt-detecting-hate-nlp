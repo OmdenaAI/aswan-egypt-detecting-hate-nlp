{
  "cells": [
    {
      "cell_type": "markdown",
      "source": [
        "# Detecting Hateful and Offensive language using NLP"
      ],
      "metadata": {
        "id": "U4BUO3AohX64"
      }
    },
    {
      "cell_type": "markdown",
      "source": [
        "###Connecting Google colab notebook to Google Drive"
      ],
      "metadata": {
        "id": "GaFYwSwXhk7y"
      }
    },
    {
      "cell_type": "code",
      "source": [
        "from google.colab import drive\n",
        "drive.mount('/content/drive')"
      ],
      "metadata": {
        "colab": {
          "base_uri": "https://localhost:8080/"
        },
        "id": "MD-999LQg6Br",
        "outputId": "bbcba6cd-bd8f-4c06-9921-6e142cd8d2f2"
      },
      "execution_count": 1,
      "outputs": [
        {
          "output_type": "stream",
          "name": "stdout",
          "text": [
            "Mounted at /content/drive\n"
          ]
        }
      ]
    },
    {
      "cell_type": "markdown",
      "source": [
        "###Downloading Helper Functions for model evaluation"
      ],
      "metadata": {
        "id": "s4P1S2Dqhvb8"
      }
    },
    {
      "cell_type": "code",
      "execution_count": 2,
      "metadata": {
        "id": "ww075RHJFCE_",
        "colab": {
          "base_uri": "https://localhost:8080/"
        },
        "outputId": "a031c5e5-0e55-47a4-dce1-529c32087392"
      },
      "outputs": [
        {
          "output_type": "stream",
          "name": "stdout",
          "text": [
            "--2023-03-05 14:53:31--  https://raw.githubusercontent.com/mrdbourke/tensorflow-deep-learning/main/extras/helper_functions.py\n",
            "Resolving raw.githubusercontent.com (raw.githubusercontent.com)... 185.199.109.133, 185.199.110.133, 185.199.111.133, ...\n",
            "Connecting to raw.githubusercontent.com (raw.githubusercontent.com)|185.199.109.133|:443... connected.\n",
            "HTTP request sent, awaiting response... 200 OK\n",
            "Length: 10246 (10K) [text/plain]\n",
            "Saving to: ‘helper_functions.py’\n",
            "\n",
            "helper_functions.py 100%[===================>]  10.01K  --.-KB/s    in 0s      \n",
            "\n",
            "2023-03-05 14:53:31 (63.0 MB/s) - ‘helper_functions.py’ saved [10246/10246]\n",
            "\n"
          ]
        }
      ],
      "source": [
        "! wget https://raw.githubusercontent.com/mrdbourke/tensorflow-deep-learning/main/extras/helper_functions.py"
      ]
    },
    {
      "cell_type": "code",
      "execution_count": 3,
      "metadata": {
        "id": "VHeyXPLHFHZn"
      },
      "outputs": [],
      "source": [
        "from helper_functions import unzip_data, plot_loss_curves, make_confusion_matrix, accuracy_score, calculate_results"
      ]
    },
    {
      "cell_type": "markdown",
      "source": [
        "###Importing required libraries"
      ],
      "metadata": {
        "id": "adZMBS9ah2Pc"
      }
    },
    {
      "cell_type": "code",
      "execution_count": 4,
      "metadata": {
        "id": "i_stGxLI8uVI"
      },
      "outputs": [],
      "source": [
        "import pandas as pd\n",
        "import numpy as np\n",
        "import tensorflow as tf\n",
        "import tensorflow_hub as hub\n",
        "from tensorflow.keras import layers\n"
      ]
    },
    {
      "cell_type": "code",
      "execution_count": 5,
      "metadata": {
        "id": "QlCN16qH9wwL"
      },
      "outputs": [],
      "source": [
        "df = pd.read_csv(\"/content/drive/MyDrive/kaggle_datasets/model_ready_combined.csv\")"
      ]
    },
    {
      "cell_type": "code",
      "execution_count": 6,
      "metadata": {
        "colab": {
          "base_uri": "https://localhost:8080/",
          "height": 206
        },
        "id": "1xNJHt0J929M",
        "outputId": "b674bd2f-d929-45bd-95a9-4f80b48db94f"
      },
      "outputs": [
        {
          "output_type": "execute_result",
          "data": {
            "text/plain": [
              "                                      clean training  label\n",
              "0  as a woman you shouldn t complain about cleani...      0\n",
              "1  boy dats cold tyga dwn bad for cuffin dat hoe ...      1\n",
              "2  dawg you ever fuck a bitch and she start to cr...      1\n",
              "3                             she look like a tranny      1\n",
              "4  the shit you hear about me might be true or it...      1"
            ],
            "text/html": [
              "\n",
              "  <div id=\"df-9868b411-d356-42bc-bce9-0941b175308c\">\n",
              "    <div class=\"colab-df-container\">\n",
              "      <div>\n",
              "<style scoped>\n",
              "    .dataframe tbody tr th:only-of-type {\n",
              "        vertical-align: middle;\n",
              "    }\n",
              "\n",
              "    .dataframe tbody tr th {\n",
              "        vertical-align: top;\n",
              "    }\n",
              "\n",
              "    .dataframe thead th {\n",
              "        text-align: right;\n",
              "    }\n",
              "</style>\n",
              "<table border=\"1\" class=\"dataframe\">\n",
              "  <thead>\n",
              "    <tr style=\"text-align: right;\">\n",
              "      <th></th>\n",
              "      <th>clean training</th>\n",
              "      <th>label</th>\n",
              "    </tr>\n",
              "  </thead>\n",
              "  <tbody>\n",
              "    <tr>\n",
              "      <th>0</th>\n",
              "      <td>as a woman you shouldn t complain about cleani...</td>\n",
              "      <td>0</td>\n",
              "    </tr>\n",
              "    <tr>\n",
              "      <th>1</th>\n",
              "      <td>boy dats cold tyga dwn bad for cuffin dat hoe ...</td>\n",
              "      <td>1</td>\n",
              "    </tr>\n",
              "    <tr>\n",
              "      <th>2</th>\n",
              "      <td>dawg you ever fuck a bitch and she start to cr...</td>\n",
              "      <td>1</td>\n",
              "    </tr>\n",
              "    <tr>\n",
              "      <th>3</th>\n",
              "      <td>she look like a tranny</td>\n",
              "      <td>1</td>\n",
              "    </tr>\n",
              "    <tr>\n",
              "      <th>4</th>\n",
              "      <td>the shit you hear about me might be true or it...</td>\n",
              "      <td>1</td>\n",
              "    </tr>\n",
              "  </tbody>\n",
              "</table>\n",
              "</div>\n",
              "      <button class=\"colab-df-convert\" onclick=\"convertToInteractive('df-9868b411-d356-42bc-bce9-0941b175308c')\"\n",
              "              title=\"Convert this dataframe to an interactive table.\"\n",
              "              style=\"display:none;\">\n",
              "        \n",
              "  <svg xmlns=\"http://www.w3.org/2000/svg\" height=\"24px\"viewBox=\"0 0 24 24\"\n",
              "       width=\"24px\">\n",
              "    <path d=\"M0 0h24v24H0V0z\" fill=\"none\"/>\n",
              "    <path d=\"M18.56 5.44l.94 2.06.94-2.06 2.06-.94-2.06-.94-.94-2.06-.94 2.06-2.06.94zm-11 1L8.5 8.5l.94-2.06 2.06-.94-2.06-.94L8.5 2.5l-.94 2.06-2.06.94zm10 10l.94 2.06.94-2.06 2.06-.94-2.06-.94-.94-2.06-.94 2.06-2.06.94z\"/><path d=\"M17.41 7.96l-1.37-1.37c-.4-.4-.92-.59-1.43-.59-.52 0-1.04.2-1.43.59L10.3 9.45l-7.72 7.72c-.78.78-.78 2.05 0 2.83L4 21.41c.39.39.9.59 1.41.59.51 0 1.02-.2 1.41-.59l7.78-7.78 2.81-2.81c.8-.78.8-2.07 0-2.86zM5.41 20L4 18.59l7.72-7.72 1.47 1.35L5.41 20z\"/>\n",
              "  </svg>\n",
              "      </button>\n",
              "      \n",
              "  <style>\n",
              "    .colab-df-container {\n",
              "      display:flex;\n",
              "      flex-wrap:wrap;\n",
              "      gap: 12px;\n",
              "    }\n",
              "\n",
              "    .colab-df-convert {\n",
              "      background-color: #E8F0FE;\n",
              "      border: none;\n",
              "      border-radius: 50%;\n",
              "      cursor: pointer;\n",
              "      display: none;\n",
              "      fill: #1967D2;\n",
              "      height: 32px;\n",
              "      padding: 0 0 0 0;\n",
              "      width: 32px;\n",
              "    }\n",
              "\n",
              "    .colab-df-convert:hover {\n",
              "      background-color: #E2EBFA;\n",
              "      box-shadow: 0px 1px 2px rgba(60, 64, 67, 0.3), 0px 1px 3px 1px rgba(60, 64, 67, 0.15);\n",
              "      fill: #174EA6;\n",
              "    }\n",
              "\n",
              "    [theme=dark] .colab-df-convert {\n",
              "      background-color: #3B4455;\n",
              "      fill: #D2E3FC;\n",
              "    }\n",
              "\n",
              "    [theme=dark] .colab-df-convert:hover {\n",
              "      background-color: #434B5C;\n",
              "      box-shadow: 0px 1px 3px 1px rgba(0, 0, 0, 0.15);\n",
              "      filter: drop-shadow(0px 1px 2px rgba(0, 0, 0, 0.3));\n",
              "      fill: #FFFFFF;\n",
              "    }\n",
              "  </style>\n",
              "\n",
              "      <script>\n",
              "        const buttonEl =\n",
              "          document.querySelector('#df-9868b411-d356-42bc-bce9-0941b175308c button.colab-df-convert');\n",
              "        buttonEl.style.display =\n",
              "          google.colab.kernel.accessAllowed ? 'block' : 'none';\n",
              "\n",
              "        async function convertToInteractive(key) {\n",
              "          const element = document.querySelector('#df-9868b411-d356-42bc-bce9-0941b175308c');\n",
              "          const dataTable =\n",
              "            await google.colab.kernel.invokeFunction('convertToInteractive',\n",
              "                                                     [key], {});\n",
              "          if (!dataTable) return;\n",
              "\n",
              "          const docLinkHtml = 'Like what you see? Visit the ' +\n",
              "            '<a target=\"_blank\" href=https://colab.research.google.com/notebooks/data_table.ipynb>data table notebook</a>'\n",
              "            + ' to learn more about interactive tables.';\n",
              "          element.innerHTML = '';\n",
              "          dataTable['output_type'] = 'display_data';\n",
              "          await google.colab.output.renderOutput(dataTable, element);\n",
              "          const docLink = document.createElement('div');\n",
              "          docLink.innerHTML = docLinkHtml;\n",
              "          element.appendChild(docLink);\n",
              "        }\n",
              "      </script>\n",
              "    </div>\n",
              "  </div>\n",
              "  "
            ]
          },
          "metadata": {},
          "execution_count": 6
        }
      ],
      "source": [
        "df.head()"
      ]
    },
    {
      "cell_type": "markdown",
      "source": [
        "###Checking number of counts"
      ],
      "metadata": {
        "id": "J0ivij0ih8Ad"
      }
    },
    {
      "cell_type": "code",
      "execution_count": 7,
      "metadata": {
        "colab": {
          "base_uri": "https://localhost:8080/"
        },
        "id": "cYUjHIxo7yCK",
        "outputId": "f351c244-f710-4aab-c7ae-3be50ffdb22e"
      },
      "outputs": [
        {
          "output_type": "execute_result",
          "data": {
            "text/plain": [
              "2    56460\n",
              "1    52371\n",
              "0    49082\n",
              "Name: label, dtype: int64"
            ]
          },
          "metadata": {},
          "execution_count": 7
        }
      ],
      "source": [
        "df['label'].value_counts()"
      ]
    },
    {
      "cell_type": "markdown",
      "source": [
        "###Converting clean training column to string"
      ],
      "metadata": {
        "id": "vxJPI74DiB1W"
      }
    },
    {
      "cell_type": "code",
      "execution_count": 8,
      "metadata": {
        "id": "4sqxnH3M92I0"
      },
      "outputs": [],
      "source": [
        "df['clean training'] = df['clean training'].apply(str)"
      ]
    },
    {
      "cell_type": "markdown",
      "source": [
        "###Splitting the text data into training and validation using sklearn train_test_split"
      ],
      "metadata": {
        "id": "hpwhwWsXicLK"
      }
    },
    {
      "cell_type": "code",
      "execution_count": 9,
      "metadata": {
        "id": "ef6M50NT-MSw"
      },
      "outputs": [],
      "source": [
        "from sklearn.model_selection import train_test_split\n",
        "train_sentences, val_sentences, train_labels, val_labels = train_test_split(df['clean training'].to_list(),\n",
        "                                                                            df['label'].to_list(),\n",
        "                                                                            test_size = 0.2,\n",
        "                                                                            random_state = 42)"
      ]
    },
    {
      "cell_type": "markdown",
      "source": [
        "###Creating data pipeline to process large data a bit faster while training model"
      ],
      "metadata": {
        "id": "fUVYgclAiqVe"
      }
    },
    {
      "cell_type": "code",
      "execution_count": 10,
      "metadata": {
        "id": "ECQnmkCwirkS"
      },
      "outputs": [],
      "source": [
        "train_dataset = tf.data.Dataset.from_tensor_slices((train_sentences, train_labels))# creating a dataset for faster model training\n",
        "valid_dataset = tf.data.Dataset.from_tensor_slices((val_sentences, val_labels))"
      ]
    },
    {
      "cell_type": "code",
      "execution_count": 11,
      "metadata": {
        "id": "mkHhwnDuilcp"
      },
      "outputs": [],
      "source": [
        "train_dataset = train_dataset.batch(32).prefetch(tf.data.AUTOTUNE)# defining batch size\n",
        "valid_dataset = valid_dataset.batch(32).prefetch(tf.data.AUTOTUNE)"
      ]
    },
    {
      "cell_type": "markdown",
      "source": [
        "## Model Building using Deep Learning"
      ],
      "metadata": {
        "id": "LAU7r4lOlO8A"
      }
    },
    {
      "cell_type": "markdown",
      "source": [
        "###Automating Feature Engineering process using  pretrained word embeddings model\n",
        "\n",
        "> Overview of Universal Sentence Encoder (large)\n",
        "\n",
        "The Universal Sentence Encoder encodes text into high dimensional vectors that can be used for text classification, semantic similarity, clustering and other natural language tasks.\n",
        "\n",
        "The model is trained and optimized for greater-than-word length text, such as sentences, phrases or short paragraphs. It is trained on a variety of data sources and a variety of tasks with the aim of dynamically accommodating a wide variety of natural language understanding tasks. The input is variable length English text and the output is a 512 dimensional vector. The universal-sentence-encoder-large model is trained with a Transformer encoder.\n",
        "\n",
        "\n"
      ],
      "metadata": {
        "id": "FFT_SoKQjWAM"
      }
    },
    {
      "cell_type": "markdown",
      "source": [
        "###Loading Pre trained Universal Sentence Encoder model"
      ],
      "metadata": {
        "id": "zwqovQeNkNqF"
      }
    },
    {
      "cell_type": "code",
      "execution_count": null,
      "metadata": {
        "id": "sHUDnRqx-qRF"
      },
      "outputs": [],
      "source": [
        "embed = hub.load('https://tfhub.dev/google/universal-sentence-encoder-large/5')"
      ]
    },
    {
      "cell_type": "markdown",
      "source": [
        "###Creating a sentence encoder layer which we gonna pass through our neural network"
      ],
      "metadata": {
        "id": "m3FG4HeLk0ZM"
      }
    },
    {
      "cell_type": "code",
      "execution_count": null,
      "metadata": {
        "id": "SdoYCWob-1LG"
      },
      "outputs": [],
      "source": [
        "sentence_encoder_layer = hub.KerasLayer(\"https://tfhub.dev/google/universal-sentence-encoder-large/5\", input_shape = [], dtype = \"string\")"
      ]
    },
    {
      "cell_type": "markdown",
      "source": [
        "###Building neural network using Functional api\n",
        "\n",
        "\n",
        "> Functional Api\n",
        "\n",
        "It is more flexible than the sequential API. It is more powerful than the sequential API in the sense branching or sharing of layers is allowed here. And also it can have multiple inputs and outputs.\n",
        "\n",
        "\n",
        "> Sequential Api\n",
        "\n",
        "Here we create the model layer-by-layer. It is very simple and easy to use. But sharing of layers or branching of layers is not allowed. Also, you can’t have multiple inputs or outputs.\n",
        "\n",
        "\n",
        "\n",
        "\n",
        "\n"
      ],
      "metadata": {
        "id": "XkapXW86lMeH"
      }
    },
    {
      "cell_type": "code",
      "execution_count": null,
      "metadata": {
        "id": "bAD7PH6S-72f"
      },
      "outputs": [],
      "source": [
        "inputs = layers.Input(shape = [], dtype = \"string\", name = \"input_layer\") # defining inputs layer\n",
        "x = sentence_encoder_layer(inputs)# adding sentence encoder layer to network\n",
        "x = tf.expand_dims(x, axis = 1)# adding one extra dimensison as neural network expects from us if we remove this layer it will pass no an error of dimension\n",
        "x = layers.Bidirectional(layers.GRU(72, return_sequences = True))(x)# applying Bidirectional Gated Recurrent Unit layer as we are detailing with sequence data we must using RNN\n",
        "x = layers.BatchNormalization()(x)# This Layer is used to make training of artificial neural networks faster and more stable through normalization of the layers' inputs by re-centering and re-scaling\n",
        "x = layers.Dropout(0.5)(x)#This layer helps prevent overfitting while training\n",
        "x = layers.Bidirectional(layers.GRU(72, return_sequences = True))(x) # repeating above architecture for deep network\n",
        "x = layers.BatchNormalization()(x)\n",
        "x = layers.Dropout(0.5)(x)\n",
        "x = layers.Bidirectional(layers.GRU(72))(x)\n",
        "x = layers.BatchNormalization()(x)\n",
        "x = layers.Dropout(0.5)(x)\n",
        "x = layers.Dense(256, activation = 'relu')(x)# This Layer is fully connected ANN Network\n",
        "outputs = layers.Dense(3, activation = 'softmax', name = 'output_layer')(x) # defining output layer consisting of  3 classes i.e 0:non risky, 1: potenially risky, 2: risky\n",
        "model = tf.keras.Model(inputs, outputs, name = \"model_GRU\")# final Model architecture\n",
        "\n",
        "model.compile(loss = \"sparse_categorical_crossentropy\", optimizer = 'adam', metrics = ['accuracy'])# Compiling the neural network\n"
      ]
    },
    {
      "cell_type": "markdown",
      "source": [
        "### Training our Neural Network model on our dataset"
      ],
      "metadata": {
        "id": "PQd-VimSpFti"
      }
    },
    {
      "cell_type": "code",
      "execution_count": null,
      "metadata": {
        "colab": {
          "base_uri": "https://localhost:8080/"
        },
        "id": "fLDYZOu0_MKS",
        "outputId": "ae3c6bfe-a48e-4b3b-d20d-06e8d8f4f8e1"
      },
      "outputs": [
        {
          "output_type": "stream",
          "name": "stdout",
          "text": [
            "Epoch 1/10\n",
            "3948/3948 [==============================] - 759s 180ms/step - loss: 0.6681 - accuracy: 0.7091 - val_loss: 0.5557 - val_accuracy: 0.7681\n",
            "Epoch 2/10\n",
            "3948/3948 [==============================] - 699s 177ms/step - loss: 0.5923 - accuracy: 0.7455 - val_loss: 0.5263 - val_accuracy: 0.7767\n",
            "Epoch 3/10\n",
            "3948/3948 [==============================] - 696s 176ms/step - loss: 0.5695 - accuracy: 0.7555 - val_loss: 0.5175 - val_accuracy: 0.7811\n",
            "Epoch 4/10\n",
            "3948/3948 [==============================] - 682s 173ms/step - loss: 0.5544 - accuracy: 0.7621 - val_loss: 0.5061 - val_accuracy: 0.7849\n",
            "Epoch 5/10\n",
            "3948/3948 [==============================] - 633s 160ms/step - loss: 0.5432 - accuracy: 0.7662 - val_loss: 0.4929 - val_accuracy: 0.7893\n",
            "Epoch 6/10\n",
            "3948/3948 [==============================] - 633s 160ms/step - loss: 0.5331 - accuracy: 0.7699 - val_loss: 0.4881 - val_accuracy: 0.7933\n",
            "Epoch 7/10\n",
            "3948/3948 [==============================] - 626s 159ms/step - loss: 0.5234 - accuracy: 0.7757 - val_loss: 0.4862 - val_accuracy: 0.7934\n",
            "Epoch 8/10\n",
            "3948/3948 [==============================] - 624s 158ms/step - loss: 0.5163 - accuracy: 0.7788 - val_loss: 0.4834 - val_accuracy: 0.7953\n",
            "Epoch 9/10\n",
            "3948/3948 [==============================] - 621s 157ms/step - loss: 0.5095 - accuracy: 0.7811 - val_loss: 0.4808 - val_accuracy: 0.7974\n",
            "Epoch 10/10\n",
            "3948/3948 [==============================] - 620s 157ms/step - loss: 0.5029 - accuracy: 0.7839 - val_loss: 0.4741 - val_accuracy: 0.7994\n"
          ]
        }
      ],
      "source": [
        "history = model.fit(train_dataset, validation_data = valid_dataset, epochs = 10)"
      ]
    },
    {
      "cell_type": "markdown",
      "source": [
        "###Ploting loss and training per epoch curves"
      ],
      "metadata": {
        "id": "aa9XiYsFpPqE"
      }
    },
    {
      "cell_type": "code",
      "execution_count": null,
      "metadata": {
        "colab": {
          "base_uri": "https://localhost:8080/",
          "height": 573
        },
        "id": "JW1s8As9AoiJ",
        "outputId": "3b07dce0-3f50-437d-e449-d0175f7bfc70"
      },
      "outputs": [
        {
          "output_type": "display_data",
          "data": {
            "text/plain": [
              "<Figure size 432x288 with 1 Axes>"
            ],
            "image/png": "[encoded data removed]"
          },
          "metadata": {
            "needs_background": "light"
          }
        },
        {
          "output_type": "display_data",
          "data": {
            "text/plain": [
              "<Figure size 432x288 with 1 Axes>"
            ],
            "image/png": "[encoded data removed]"
          },
          "metadata": {
            "needs_background": "light"
          }
        }
      ],
      "source": [
        "plot_loss_curves(history)"
      ]
    },
    {
      "cell_type": "markdown",
      "source": [
        "## Model Evaluation"
      ],
      "metadata": {
        "id": "WuZVYtBjpbM9"
      }
    },
    {
      "cell_type": "markdown",
      "source": [
        "### Testing our trained model on valid data this predict function we give us the probability"
      ],
      "metadata": {
        "id": "rEORdZmIphdf"
      }
    },
    {
      "cell_type": "code",
      "execution_count": null,
      "metadata": {
        "colab": {
          "base_uri": "https://localhost:8080/"
        },
        "id": "1P4-HGfN_z5w",
        "outputId": "cf0d788f-5d84-4a1c-b35f-21cccde9c2fa"
      },
      "outputs": [
        {
          "output_type": "stream",
          "name": "stdout",
          "text": [
            "987/987 [==============================] - 126s 119ms/step\n"
          ]
        }
      ],
      "source": [
        "y_probs = model.predict(valid_dataset)"
      ]
    },
    {
      "cell_type": "markdown",
      "source": [
        "###Converting probability to class labels"
      ],
      "metadata": {
        "id": "JKP5Tisbp2pD"
      }
    },
    {
      "cell_type": "code",
      "execution_count": null,
      "metadata": {
        "id": "VQP4PQsN_3b4"
      },
      "outputs": [],
      "source": [
        "y_preds = tf.argmax(y_probs, axis = 1)"
      ]
    },
    {
      "cell_type": "code",
      "execution_count": null,
      "metadata": {
        "colab": {
          "base_uri": "https://localhost:8080/"
        },
        "id": "jmodXWi9_9TR",
        "outputId": "22dd30d4-8a11-49e2-f268-9fa3cac0f4e6"
      },
      "outputs": [
        {
          "output_type": "execute_result",
          "data": {
            "text/plain": [
              "[1, 2, 0, 0, 2, 0, 1, 1, 1, 1]"
            ]
          },
          "metadata": {},
          "execution_count": 32
        }
      ],
      "source": [
        "val_labels[:10]"
      ]
    },
    {
      "cell_type": "code",
      "execution_count": null,
      "metadata": {
        "colab": {
          "base_uri": "https://localhost:8080/"
        },
        "id": "q4MOTZn8ADHr",
        "outputId": "bc44d25f-5d33-46d2-b127-6fd541096688"
      },
      "outputs": [
        {
          "output_type": "execute_result",
          "data": {
            "text/plain": [
              "<tf.Tensor: shape=(10,), dtype=int64, numpy=array([1, 1, 0, 2, 2, 2, 1, 1, 1, 1])>"
            ]
          },
          "metadata": {},
          "execution_count": 33
        }
      ],
      "source": [
        "y_preds[:10]"
      ]
    },
    {
      "cell_type": "markdown",
      "source": [
        "###Ploting the Confusion Matrix"
      ],
      "metadata": {
        "id": "6sYTzWEOqAe0"
      }
    },
    {
      "cell_type": "code",
      "execution_count": null,
      "metadata": {
        "colab": {
          "base_uri": "https://localhost:8080/",
          "height": 574
        },
        "id": "azO_uu75y2o0",
        "outputId": "962fe545-412f-42c8-edbe-3b115daaf5ff"
      },
      "outputs": [
        {
          "output_type": "display_data",
          "data": {
            "text/plain": [
              "<Figure size 720x720 with 2 Axes>"
            ],
            "image/png": "[encoded data removed]"
          },
          "metadata": {
            "needs_background": "light"
          }
        }
      ],
      "source": [
        "make_confusion_matrix(val_labels, y_preds)"
      ]
    },
    {
      "cell_type": "markdown",
      "source": [
        "### Loading best performing model so far\n",
        "\n",
        "▶ The model which you have seen above is a recently trained model and the accuracy is not the desired one. so i have this best performing trained model which was previously trained on this same neural network architecture\n",
        "\n",
        "⏰ Remainder : At the time of testing this model, dont forget to load the sentence encoder model as it is from external source so you have to write this this below code where **hub** is alias for tensorflow_hub library to load model in your notebook"
      ],
      "metadata": {
        "id": "uhrM-G2PrRhi"
      }
    },
    {
      "cell_type": "code",
      "execution_count": 12,
      "metadata": {
        "colab": {
          "base_uri": "https://localhost:8080/"
        },
        "id": "usc0Od-tJ26E",
        "outputId": "11c147f1-a2af-4345-96e6-9f6d66a981bc"
      },
      "outputs": [
        {
          "output_type": "stream",
          "name": "stderr",
          "text": [
            "WARNING:tensorflow:Please fix your imports. Module tensorflow.python.training.tracking.data_structures has been moved to tensorflow.python.trackable.data_structures. The old module will be deleted in version 2.11.\n",
            "WARNING:tensorflow:From /usr/local/lib/python3.8/dist-packages/tensorflow/python/autograph/pyct/static_analysis/liveness.py:83: Analyzer.lamba_check (from tensorflow.python.autograph.pyct.static_analysis.liveness) is deprecated and will be removed after 2023-09-23.\n",
            "Instructions for updating:\n",
            "Lambda fuctions will be no more assumed to be used in the statement where they are used, or at least in the same block. https://github.com/tensorflow/tensorflow/issues/56089\n"
          ]
        }
      ],
      "source": [
        "loaded_model = tf.keras.models.load_model(\"/content/drive/MyDrive/kaggle_datasets/best_model (1).h5\",custom_objects={\"KerasLayer\": hub.KerasLayer})"
      ]
    },
    {
      "cell_type": "markdown",
      "source": [
        "###Ploting model summary of best performing model"
      ],
      "metadata": {
        "id": "fzI3CXRLtlXL"
      }
    },
    {
      "cell_type": "code",
      "source": [
        "from keras.utils.vis_utils import plot_model\n",
        "plot_model(loaded_model)"
      ],
      "metadata": {
        "colab": {
          "base_uri": "https://localhost:8080/",
          "height": 1000
        },
        "id": "wXkCC4YGpAHK",
        "outputId": "9445718d-192c-422a-a287-8c79e5aa1961"
      },
      "execution_count": 13,
      "outputs": [
        {
          "output_type": "execute_result",
          "data": {
            "image/png": "[encoded data removed]",
            "text/plain": [
              "<IPython.core.display.Image object>"
            ]
          },
          "metadata": {},
          "execution_count": 13
        }
      ]
    },
    {
      "cell_type": "markdown",
      "source": [
        "###Model evalution same as above"
      ],
      "metadata": {
        "id": "am-KkwS0tuQc"
      }
    },
    {
      "cell_type": "code",
      "execution_count": 14,
      "metadata": {
        "colab": {
          "base_uri": "https://localhost:8080/"
        },
        "id": "NoGb-L0L0fkE",
        "outputId": "854bb6d4-b568-4bb6-81d5-9a4dc32cf92e"
      },
      "outputs": [
        {
          "output_type": "stream",
          "name": "stdout",
          "text": [
            "987/987 [==============================] - 140s 127ms/step\n"
          ]
        }
      ],
      "source": [
        "y_probs = loaded_model.predict(valid_dataset)"
      ]
    },
    {
      "cell_type": "code",
      "execution_count": 15,
      "metadata": {
        "id": "NaSnhf3C01BH"
      },
      "outputs": [],
      "source": [
        "y_preds = tf.argmax(y_probs, axis = 1)"
      ]
    },
    {
      "cell_type": "code",
      "source": [
        "make_confusion_matrix(val_labels, y_preds)"
      ],
      "metadata": {
        "colab": {
          "base_uri": "https://localhost:8080/",
          "height": 574
        },
        "id": "g_7noEoK9MKH",
        "outputId": "efde6726-84bc-4e67-8625-92880e10166b"
      },
      "execution_count": 16,
      "outputs": [
        {
          "output_type": "display_data",
          "data": {
            "text/plain": [
              "<Figure size 720x720 with 2 Axes>"
            ],
            "image/png": "[encoded data removed]"
          },
          "metadata": {
            "needs_background": "light"
          }
        }
      ]
    },
    {
      "cell_type": "code",
      "source": [
        "accuracy_score(val_labels, y_preds)"
      ],
      "metadata": {
        "id": "Ky1V1Md2zXkS",
        "colab": {
          "base_uri": "https://localhost:8080/"
        },
        "outputId": "63d1021b-e786-4e68-eb6a-0054fb9d5101"
      },
      "execution_count": 17,
      "outputs": [
        {
          "output_type": "execute_result",
          "data": {
            "text/plain": [
              "0.8116391729728019"
            ]
          },
          "metadata": {},
          "execution_count": 17
        }
      ]
    },
    {
      "cell_type": "markdown",
      "source": [
        "###Loaded model Classification Report"
      ],
      "metadata": {
        "id": "XncC8PXRt1zV"
      }
    },
    {
      "cell_type": "code",
      "execution_count": 18,
      "metadata": {
        "colab": {
          "base_uri": "https://localhost:8080/"
        },
        "id": "no4BRyuF1ldO",
        "outputId": "28bdc305-cdaf-457a-8d0b-e3797211f5f1"
      },
      "outputs": [
        {
          "output_type": "stream",
          "name": "stdout",
          "text": [
            "              precision    recall  f1-score   support\n",
            "\n",
            "           0       0.86      0.83      0.84      9790\n",
            "           1       0.82      0.82      0.82     10307\n",
            "           2       0.76      0.79      0.78     11486\n",
            "\n",
            "    accuracy                           0.81     31583\n",
            "   macro avg       0.82      0.81      0.81     31583\n",
            "weighted avg       0.81      0.81      0.81     31583\n",
            "\n"
          ]
        }
      ],
      "source": [
        "from sklearn.metrics import classification_report\n",
        "print(classification_report(val_labels, y_preds))"
      ]
    },
    {
      "cell_type": "markdown",
      "source": [
        "##Realtime Testing on this trained model\n",
        "\n",
        "> Overview \n",
        "\n",
        "In this step we are going to test this model on few realtime hate statements given by poltictians, feel free to test your own sentences on this model\n",
        "\n",
        "🧭 Disclaimer:\n",
        "\n",
        "Before you guys proceed further , i would like to apologize you guys in advance because the statements which i m going to use are real hate speechs given by poltictians. im just testing this model on realtime to check performance. So, Please dont judge me \n",
        "\n",
        "\n",
        "\n",
        "\n"
      ],
      "metadata": {
        "id": "qLt_FHjzuDDn"
      }
    },
    {
      "cell_type": "markdown",
      "source": [
        "Statements to be used:\n",
        "\n",
        "\n",
        "\n",
        "\n",
        "\n",
        "\n",
        "*  Once a muslim will become the pm 50 percent hindus will convert 40 percent will be killed 10 percent will either live in refugee camp or in other countries If you want to avoid this future, then become a man and take up arms.\n",
        "\n",
        "*   And we have pleged to ourselves if they take one hindu girl, we will snatch at least 100 muslim girls from them.\n",
        "\n",
        "*  Hitler did very cruel and ugly things. But he was an artist, I love him (for that). He had the power to carry the whole nation, the mob with him. You have to think what magic he had. He was a miracle.... The killing of Jews was wrong. But the good part about Hitler was that he was an artist. He was a daredevil. He had good qualities and bad. I may also have good qualities and bad ones.\n",
        "\n",
        "\n",
        "\n",
        "\n",
        "\n",
        "\n",
        "\n",
        "\n",
        "  \n",
        "\n",
        "\n",
        "\n",
        "\n",
        "\n",
        "\n",
        "\n"
      ],
      "metadata": {
        "id": "yTt-7pjI0TL0"
      }
    },
    {
      "cell_type": "code",
      "source": [
        "sentence = \"Hitler did very cruel and ugly things. But he was an artist, I love him (for that). He had the power to carry the whole nation, the mob with him. You have to think what magic he had. He was a miracle.... The killing of Jews was wrong. But the good part about Hitler was that he was an artist. He was a daredevil. He had good qualities and bad. I may also have good qualities and bad ones.\""
      ],
      "metadata": {
        "id": "03YAVK4n93d2"
      },
      "execution_count": 44,
      "outputs": []
    },
    {
      "cell_type": "markdown",
      "source": [
        "###Defining the if statements for real prediction"
      ],
      "metadata": {
        "id": "qPP0zMjnyWVA"
      }
    },
    {
      "cell_type": "code",
      "execution_count": 45,
      "metadata": {
        "colab": {
          "base_uri": "https://localhost:8080/"
        },
        "id": "Bhs4tv9JAXRv",
        "outputId": "46910332-4328-4ae2-aa40-bef284d3dba4"
      },
      "outputs": [
        {
          "output_type": "stream",
          "name": "stdout",
          "text": [
            "1/1 [==============================] - 0s 120ms/step\n",
            "Risky\n",
            "Text:\n",
            "Hitler did very cruel and ugly things. But he was an artist, I love him (for that). He had the power to carry the whole nation, the mob with him. You have to think what magic he had. He was a miracle.... The killing of Jews was wrong. But the good part about Hitler was that he was an artist. He was a daredevil. He had good qualities and bad. I may also have good qualities and bad ones.\n"
          ]
        }
      ],
      "source": [
        "pred_prob = loaded_model.predict([sentence])# getting probabilty of a given sentence\n",
        "pred_label = tf.argmax(pred_prob, axis = 1)# converting probability to labels\n",
        "\n",
        "#defining simple if statements\n",
        "\n",
        "if pred_label==1:\n",
        "  print(\"Potentially Risky\") \n",
        "elif pred_label== 2:\n",
        "  print(\"Risky\")\n",
        "else:\n",
        "  print(\"Non-Risky\")\n",
        "print(f\"Text:\\n{sentence}\")"
      ]
    }
  ],
  "metadata": {
    "accelerator": "GPU",
    "colab": {
      "provenance": []
    },
    "gpuClass": "standard",
    "kernelspec": {
      "display_name": "Python 3",
      "name": "python3"
    },
    "language_info": {
      "name": "python"
    }
  },
  "nbformat": 4,
  "nbformat_minor": 0
}