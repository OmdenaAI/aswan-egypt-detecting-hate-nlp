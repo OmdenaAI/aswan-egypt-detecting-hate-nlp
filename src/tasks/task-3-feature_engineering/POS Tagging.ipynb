{
 "cells": [
  {
   "cell_type": "markdown",
   "id": "d2d2842b",
   "metadata": {},
   "source": [
    "# POS Tagging\n",
    "---\n",
    "It may be defined as the process of assigning one of the parts of speech to the given word. It is generally called POS tagging. In simple words, we can say that POS tagging is a task of labelling each word in a sentence with its appropriate part of speech.\n",
    "\n",
    "\n",
    "## Supporting articles\n",
    "- [Part-of-Speech tagging enhancement to natural language processing for Thai wh-question classification with deep learning](https://www.ncbi.nlm.nih.gov/pmc/articles/PMC8554172/)\n",
    "- [Part Of Speech Tagging – POS Tagging in NLP](https://byteiota.com/pos-tagging/)\n",
    "- [POS Tagging with NLTK and Chunking in NLP](https://www.guru99.com/pos-tagging-chunking-nltk.html)\n",
    "- [Tutorial on Spacy Part of Speech (POS) Tagging](https://machinelearningknowledge.ai/tutorial-on-spacy-part-of-speech-pos-tagging/)\n",
    "- [Linguistic Features(Part-of-speech tagging)](https://spacy.io/usage/linguistic-features)"
   ]
  },
  {
   "cell_type": "code",
   "execution_count": 1,
   "id": "dbd25145",
   "metadata": {},
   "outputs": [],
   "source": [
    "import pandas as pd"
   ]
  },
  {
   "cell_type": "code",
   "execution_count": 2,
   "id": "0aad219c",
   "metadata": {},
   "outputs": [],
   "source": [
    "corpora = pd.read_csv('../../data/english/clean-datasets/combine dataset of measuring hate speech, hate speech offensive, Twitter Tweets Sentiment/clean combined dataset.csv')"
   ]
  },
  {
   "cell_type": "code",
   "execution_count": 3,
   "id": "fa55b0d2",
   "metadata": {},
   "outputs": [
    {
     "name": "stdout",
     "output_type": "stream",
     "text": [
      "<class 'pandas.core.frame.DataFrame'>\n",
      "RangeIndex: 64598 entries, 0 to 64597\n",
      "Data columns (total 4 columns):\n",
      " #   Column                   Non-Null Count  Dtype  \n",
      "---  ------                   --------------  -----  \n",
      " 0   raw sentence             64598 non-null  object \n",
      " 1   clean sentence training  62756 non-null  object \n",
      " 2   label                    62787 non-null  float64\n",
      " 3   clean sentence EDA       62787 non-null  object \n",
      "dtypes: float64(1), object(3)\n",
      "memory usage: 2.0+ MB\n"
     ]
    }
   ],
   "source": [
    "corpora.info()"
   ]
  }
 ],
 "metadata": {
  "kernelspec": {
   "display_name": "Python 3 (ipykernel)",
   "language": "python",
   "name": "python3"
  },
  "language_info": {
   "codemirror_mode": {
    "name": "ipython",
    "version": 3
   },
   "file_extension": ".py",
   "mimetype": "text/x-python",
   "name": "python",
   "nbconvert_exporter": "python",
   "pygments_lexer": "ipython3",
   "version": "3.8.8"
  }
 },
 "nbformat": 4,
 "nbformat_minor": 5
}
