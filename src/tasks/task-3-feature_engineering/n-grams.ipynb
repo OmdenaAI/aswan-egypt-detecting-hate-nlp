{
 "cells": [
  {
   "cell_type": "markdown",
   "id": "4e934761",
   "metadata": {},
   "source": [
    "# N-grams\n",
    "---\n",
    "An N-Gram is a connected string of N items from a sample of text or speech. The N-Gram could be comprised of large blocks of words, or smaller sets of syllables. N-Grams are used as the basis for functioning N-Gram models, which are instrumental in natural language processing as a way of predicting upcoming text or speech.\n",
    "![N-gram example](./images/n-gram.jpg)\n",
    "\n",
    "## Supporting articles\n",
    "- [What are n-grams?](https://www.educative.io/answers/what-are-n-grams) \n",
    "- [Implement N-Grams using Python NLTK – A Step-By-Step Guide](https://www.askpython.com/python/examples/n-grams-python-nltk)"
   ]
  },
  {
   "cell_type": "code",
   "execution_count": 75,
   "id": "5afb0ca1",
   "metadata": {},
   "outputs": [],
   "source": [
    "import pandas as pd\n",
    "from nltk import ngrams, everygrams\n",
    "from nltk.tokenize import TweetTokenizer\n",
    "from sklearn.model_selection import train_test_split\n",
    "from sklearn.pipeline import Pipeline\n",
    "from sklearn.feature_extraction.text import CountVectorizer\n",
    "from sklearn.feature_extraction.text import TfidfTransformer\n",
    "from sklearn.naive_bayes import MultinomialNB\n",
    "from sklearn.metrics import classification_report, confusion_matrix, ConfusionMatrixDisplay"
   ]
  },
  {
   "cell_type": "code",
   "execution_count": 2,
   "id": "74e2c435",
   "metadata": {},
   "outputs": [],
   "source": [
    "corpora = pd.read_csv('./Dataset/model_ready_combined.csv')"
   ]
  },
  {
   "cell_type": "code",
   "execution_count": 3,
   "id": "cc084c29",
   "metadata": {},
   "outputs": [
    {
     "name": "stdout",
     "output_type": "stream",
     "text": [
      "<class 'pandas.core.frame.DataFrame'>\n",
      "RangeIndex: 157913 entries, 0 to 157912\n",
      "Data columns (total 2 columns):\n",
      " #   Column          Non-Null Count   Dtype \n",
      "---  ------          --------------   ----- \n",
      " 0   clean training  157912 non-null  object\n",
      " 1   label           157913 non-null  int64 \n",
      "dtypes: int64(1), object(1)\n",
      "memory usage: 2.4+ MB\n"
     ]
    }
   ],
   "source": [
    "corpora.info()"
   ]
  },
  {
   "cell_type": "code",
   "execution_count": 15,
   "id": "2416c3c4",
   "metadata": {},
   "outputs": [
    {
     "data": {
      "text/html": [
       "<div>\n",
       "<style scoped>\n",
       "    .dataframe tbody tr th:only-of-type {\n",
       "        vertical-align: middle;\n",
       "    }\n",
       "\n",
       "    .dataframe tbody tr th {\n",
       "        vertical-align: top;\n",
       "    }\n",
       "\n",
       "    .dataframe thead th {\n",
       "        text-align: right;\n",
       "    }\n",
       "</style>\n",
       "<table border=\"1\" class=\"dataframe\">\n",
       "  <thead>\n",
       "    <tr style=\"text-align: right;\">\n",
       "      <th></th>\n",
       "      <th>clean training</th>\n",
       "      <th>label</th>\n",
       "    </tr>\n",
       "  </thead>\n",
       "  <tbody>\n",
       "    <tr>\n",
       "      <th>157908</th>\n",
       "      <td>we should forcibly remove all the foreigners f...</td>\n",
       "      <td>2</td>\n",
       "    </tr>\n",
       "    <tr>\n",
       "      <th>157909</th>\n",
       "      <td>we should forcibly remove all the immigrants f...</td>\n",
       "      <td>2</td>\n",
       "    </tr>\n",
       "    <tr>\n",
       "      <th>157910</th>\n",
       "      <td>dalits be unworthy of the gods love</td>\n",
       "      <td>2</td>\n",
       "    </tr>\n",
       "    <tr>\n",
       "      <th>157911</th>\n",
       "      <td>dalits be worthless</td>\n",
       "      <td>2</td>\n",
       "    </tr>\n",
       "    <tr>\n",
       "      <th>157912</th>\n",
       "      <td>dalits be deserve to be treat as lowlife</td>\n",
       "      <td>2</td>\n",
       "    </tr>\n",
       "  </tbody>\n",
       "</table>\n",
       "</div>"
      ],
      "text/plain": [
       "                                           clean training  label\n",
       "157908  we should forcibly remove all the foreigners f...      2\n",
       "157909  we should forcibly remove all the immigrants f...      2\n",
       "157910                dalits be unworthy of the gods love      2\n",
       "157911                                dalits be worthless      2\n",
       "157912           dalits be deserve to be treat as lowlife      2"
      ]
     },
     "execution_count": 15,
     "metadata": {},
     "output_type": "execute_result"
    }
   ],
   "source": [
    "corpora.tail()"
   ]
  },
  {
   "cell_type": "code",
   "execution_count": 46,
   "id": "5b8cc1ae",
   "metadata": {},
   "outputs": [
    {
     "data": {
      "text/plain": [
       "clean training    1\n",
       "label             0\n",
       "dtype: int64"
      ]
     },
     "execution_count": 46,
     "metadata": {},
     "output_type": "execute_result"
    }
   ],
   "source": [
    "corpora.isna().sum()"
   ]
  },
  {
   "cell_type": "code",
   "execution_count": 35,
   "id": "de47b10d",
   "metadata": {},
   "outputs": [],
   "source": [
    "data = corpora.dropna()\n",
    "x = data.drop('label', axis=1)\n",
    "y = data['label']\n",
    "data.head()"
   ]
  },
  {
   "cell_type": "code",
   "execution_count": 48,
   "id": "081dd41b",
   "metadata": {},
   "outputs": [
    {
     "data": {
      "text/plain": [
       "clean training    0\n",
       "label             0\n",
       "dtype: int64"
      ]
     },
     "execution_count": 48,
     "metadata": {},
     "output_type": "execute_result"
    }
   ],
   "source": [
    "data.isna().sum()"
   ]
  },
  {
   "cell_type": "code",
   "execution_count": 80,
   "id": "97095ba5",
   "metadata": {},
   "outputs": [],
   "source": [
    "#following function returns the n-gram tokens and labels from the corpora\n",
    "def get_tokens_ngram(test_size=0.2, ngram=1):\n",
    "    tokenizer = TweetTokenizer()\n",
    "    train_tokens = []\n",
    "    data_train, data_test, train_labels, test_labels = train_test_split(x, y ,test_size=test_size, shuffle=True, random_state=42)\n",
    "    print(f'Samples in data_train: {len(data_train)},\\nSamples in data_test: {len(data_test)},\\nSamples in label_train: {len(label_train)},\\nSamples in label_test: {len(label_test)}')\n",
    "    for idx in range(data_train.shape[0]):\n",
    "        words = tokenizer.tokenize(data_train.iloc[idx]['clean training'])\n",
    "        if ngram != 1:\n",
    "            ngram_words = ngrams(words, ngram)\n",
    "            tokens_rec = []\n",
    "            for ng in ngram_words:\n",
    "                tokens_rec.append(ng)\n",
    "            train_tokens.append(tokens_rec)\n",
    "        else:\n",
    "            train_tokens.append(words)\n",
    "    test_tokens = []\n",
    "    for idx in range(data_test.shape[0]):\n",
    "        words = tokenizer.tokenize(data_test.iloc[idx]['clean training'])\n",
    "        if ngram != 1:\n",
    "            ngram_words = ngrams(words, ngram)\n",
    "            tokens_rec = []\n",
    "            for ng in ngram_words:\n",
    "                tokens_rec.append(ng)\n",
    "            test_tokens.append(tokens_rec)\n",
    "        else:\n",
    "            test_tokens.append(words)\n",
    "    return train_tokens, train_labels, test_tokens, test_labels\n",
    "\n",
    "#following function returns the every-gram tokens and labels from the corpora\n",
    "def get_tokens_every_gram(test_size=0.2, min_length=1, max_length=5):\n",
    "    tokenizer = TweetTokenizer()\n",
    "    train_tokens = []\n",
    "    data_train, data_test, train_labels, test_labels = train_test_split(x, y ,test_size=test_size, shuffle=True, random_state=42)\n",
    "    print(f'Samples in data_train: {len(data_train)},\\nSamples in data_test: {len(data_test)},\\nSamples in label_train: {len(label_train)},\\nSamples in label_test: {len(label_test)}')\n",
    "    for idx in range(data_train.shape[0]):\n",
    "        words = tokenizer.tokenize(data_train.iloc[idx]['clean training'])\n",
    "        if min_length != 1:\n",
    "            ngram_words = everygrams(words, min_len=min_length, max_len=max_length)\n",
    "            tokens_rec = []\n",
    "            for ng in ngram_words:\n",
    "                tokens_rec.append(ng)\n",
    "            train_tokens.append(tokens_rec)\n",
    "        else:\n",
    "            train_tokens.append(words)\n",
    "    test_tokens = []\n",
    "    for idx in range(data_test.shape[0]):\n",
    "        words = tokenizer.tokenize(data_test.iloc[idx]['clean training'])\n",
    "        if min_length != 1:\n",
    "            ngram_words = everygrams(words, min_len=min_length, max_len=max_length)\n",
    "            tokens_rec = []\n",
    "            for ng in ngram_words:\n",
    "                tokens_rec.append(ng)\n",
    "            test_tokens.append(tokens_rec)\n",
    "        else:\n",
    "            test_tokens.append(words)\n",
    "    return train_tokens, train_labels, test_tokens, test_labels"
   ]
  },
  {
   "cell_type": "code",
   "execution_count": 81,
   "id": "cdf522e3",
   "metadata": {},
   "outputs": [
    {
     "name": "stdout",
     "output_type": "stream",
     "text": [
      "Samples in data_train: 126329,\n",
      "Samples in data_test: 31583,\n",
      "Samples in label_train: 126329,\n",
      "Samples in label_test: 31583\n",
      "              precision    recall  f1-score   support\n",
      "\n",
      "           0       0.90      0.55      0.68      9842\n",
      "           1       0.73      0.81      0.77     10322\n",
      "           2       0.63      0.78      0.70     11419\n",
      "\n",
      "    accuracy                           0.72     31583\n",
      "   macro avg       0.76      0.71      0.72     31583\n",
      "weighted avg       0.75      0.72      0.72     31583\n",
      "\n"
     ]
    }
   ],
   "source": [
    "data_train, label_train, data_test, label_test = get_tokens_ngram()\n",
    "pipeline = Pipeline([\n",
    "    ('vect', CountVectorizer(analyzer=lambda x: x)), # converts strings to integer counts\n",
    "    ('tfidf', TfidfTransformer()), # converts integer counts to weighted TF-IDF scores\n",
    "    ('clf', MultinomialNB()) # train on TF-IDF vectors with Naive Bayes classifier\n",
    "])\n",
    "pipeline.fit(data_train, label_train)\n",
    "predictions = pipeline.predict(data_test)\n",
    "print(classification_report(label_test, predictions))"
   ]
  },
  {
   "cell_type": "code",
   "execution_count": 82,
   "id": "3658d4ea",
   "metadata": {},
   "outputs": [
    {
     "data": {
      "text/plain": [
       "<sklearn.metrics._plot.confusion_matrix.ConfusionMatrixDisplay at 0x18cadd2a640>"
      ]
     },
     "execution_count": 82,
     "metadata": {},
     "output_type": "execute_result"
    },
    {
     "data": {
      "image/png": "[encoded data removed]",
      "text/plain": [
       "<Figure size 432x288 with 2 Axes>"
      ]
     },
     "metadata": {
      "needs_background": "light"
     },
     "output_type": "display_data"
    }
   ],
   "source": [
    "conf_mat = confusion_matrix(label_test, predictions, labels=pipeline.classes_)\n",
    "display = ConfusionMatrixDisplay(confusion_matrix=conf_mat, display_labels=pipeline.classes_)\n",
    "display.plot();"
   ]
  },
  {
   "cell_type": "markdown",
   "id": "10e76c4c",
   "metadata": {},
   "source": [
    "## Same Pipeline with bi-Gram tokens\n",
    "This pipeline consists of:\n",
    "- **Vectorizer** which converts text or list of tokens list to a token count matrix\n",
    "- **Term Frequency Inverse Document Frequency Transformer** Which weighs each count if its a deciding term in a document if its appeared in higher count or its a common term in general which appears in each document of corpora with a higher count.\n",
    "- **Naive Bayes Classifier** There are multiple implementations of Naive Bayes classifier in scikit-learn library we have chosen MultinomialNB for our task which is the chosen and recommended tool in text classification using word count technique."
   ]
  },
  {
   "cell_type": "code",
   "execution_count": 83,
   "id": "e2c1d80b",
   "metadata": {},
   "outputs": [
    {
     "name": "stdout",
     "output_type": "stream",
     "text": [
      "Samples in data_train: 126329,\n",
      "Samples in data_test: 31583,\n",
      "Samples in label_train: 126329,\n",
      "Samples in label_test: 31583\n",
      "              precision    recall  f1-score   support\n",
      "\n",
      "           0       0.89      0.43      0.58      9842\n",
      "           1       0.67      0.82      0.74     10322\n",
      "           2       0.60      0.75      0.66     11419\n",
      "\n",
      "    accuracy                           0.67     31583\n",
      "   macro avg       0.72      0.66      0.66     31583\n",
      "weighted avg       0.71      0.67      0.66     31583\n",
      "\n"
     ]
    }
   ],
   "source": [
    "data_train, label_train, data_test, label_test = get_tokens_ngram(ngram=2)\n",
    "pipeline = Pipeline([\n",
    "    ('vect', CountVectorizer(analyzer=lambda x: x)), # converts strings to integer counts\n",
    "    ('tfidf', TfidfTransformer()), # converts integer counts to weighted TF-IDF scores\n",
    "    ('clf', MultinomialNB()) # train on TF-IDF vectors with Naive Bayes classifier\n",
    "])\n",
    "pipeline.fit(data_train, label_train)\n",
    "predictions = pipeline.predict(data_test)\n",
    "print(classification_report(label_test, predictions))"
   ]
  },
  {
   "cell_type": "code",
   "execution_count": 84,
   "id": "2bb657f1",
   "metadata": {},
   "outputs": [
    {
     "data": {
      "text/plain": [
       "<sklearn.metrics._plot.confusion_matrix.ConfusionMatrixDisplay at 0x18cb4074a60>"
      ]
     },
     "execution_count": 84,
     "metadata": {},
     "output_type": "execute_result"
    },
    {
     "data": {
      "image/png": "[encoded data removed]",
      "text/plain": [
       "<Figure size 432x288 with 2 Axes>"
      ]
     },
     "metadata": {
      "needs_background": "light"
     },
     "output_type": "display_data"
    }
   ],
   "source": [
    "conf_mat = confusion_matrix(label_test, predictions, labels=pipeline.classes_)\n",
    "display = ConfusionMatrixDisplay(confusion_matrix=conf_mat, display_labels=pipeline.classes_)\n",
    "display.plot();"
   ]
  },
  {
   "cell_type": "code",
   "execution_count": 85,
   "id": "8ce364b0",
   "metadata": {},
   "outputs": [
    {
     "name": "stdout",
     "output_type": "stream",
     "text": [
      "Samples in data_train: 126329,\n",
      "Samples in data_test: 31583,\n",
      "Samples in label_train: 126329,\n",
      "Samples in label_test: 31583\n",
      "              precision    recall  f1-score   support\n",
      "\n",
      "           0       0.69      0.35      0.46      9842\n",
      "           1       0.67      0.69      0.68     10322\n",
      "           2       0.49      0.69      0.57     11419\n",
      "\n",
      "    accuracy                           0.58     31583\n",
      "   macro avg       0.62      0.58      0.57     31583\n",
      "weighted avg       0.61      0.58      0.57     31583\n",
      "\n"
     ]
    }
   ],
   "source": [
    "data_train, label_train, data_test, label_test = get_tokens_ngram(ngram=3)\n",
    "pipeline = Pipeline([\n",
    "    ('vect', CountVectorizer(analyzer=lambda x: x)), # converts strings to integer counts\n",
    "    ('tfidf', TfidfTransformer()), # converts integer counts to weighted TF-IDF scores\n",
    "    ('clf', MultinomialNB()) # train on TF-IDF vectors with Naive Bayes classifier\n",
    "])\n",
    "pipeline.fit(data_train, label_train)\n",
    "predictions = pipeline.predict(data_test)\n",
    "print(classification_report(label_test, predictions))"
   ]
  },
  {
   "cell_type": "code",
   "execution_count": 86,
   "id": "bcf3cc96",
   "metadata": {},
   "outputs": [
    {
     "data": {
      "text/plain": [
       "<sklearn.metrics._plot.confusion_matrix.ConfusionMatrixDisplay at 0x18c87a00280>"
      ]
     },
     "execution_count": 86,
     "metadata": {},
     "output_type": "execute_result"
    },
    {
     "data": {
      "image/png": "[encoded data removed]",
      "text/plain": [
       "<Figure size 432x288 with 2 Axes>"
      ]
     },
     "metadata": {
      "needs_background": "light"
     },
     "output_type": "display_data"
    }
   ],
   "source": [
    "conf_mat = confusion_matrix(label_test, predictions, labels=pipeline.classes_)\n",
    "display = ConfusionMatrixDisplay(confusion_matrix=conf_mat, display_labels=pipeline.classes_)\n",
    "display.plot();"
   ]
  },
  {
   "cell_type": "code",
   "execution_count": 87,
   "id": "c374c07e",
   "metadata": {},
   "outputs": [
    {
     "name": "stdout",
     "output_type": "stream",
     "text": [
      "Samples in data_train: 126329,\n",
      "Samples in data_test: 31583,\n",
      "Samples in label_train: 126329,\n",
      "Samples in label_test: 31583\n",
      "              precision    recall  f1-score   support\n",
      "\n",
      "           0       0.55      0.24      0.33      9842\n",
      "           1       0.68      0.50      0.58     10322\n",
      "           2       0.40      0.70      0.51     11419\n",
      "\n",
      "    accuracy                           0.49     31583\n",
      "   macro avg       0.55      0.48      0.47     31583\n",
      "weighted avg       0.54      0.49      0.48     31583\n",
      "\n"
     ]
    }
   ],
   "source": [
    "data_train, label_train, data_test, label_test = get_tokens_ngram(ngram=4)\n",
    "pipeline = Pipeline([\n",
    "    ('vect', CountVectorizer(analyzer=lambda x: x)), # converts strings to integer counts\n",
    "    ('tfidf', TfidfTransformer()), # converts integer counts to weighted TF-IDF scores\n",
    "    ('clf', MultinomialNB()) # train on TF-IDF vectors with Naive Bayes classifier\n",
    "])\n",
    "pipeline.fit(data_train, label_train)\n",
    "predictions = pipeline.predict(data_test)\n",
    "print(classification_report(label_test, predictions))"
   ]
  },
  {
   "cell_type": "code",
   "execution_count": 88,
   "id": "eb883727",
   "metadata": {},
   "outputs": [
    {
     "data": {
      "text/plain": [
       "<sklearn.metrics._plot.confusion_matrix.ConfusionMatrixDisplay at 0x18cb0b56f40>"
      ]
     },
     "execution_count": 88,
     "metadata": {},
     "output_type": "execute_result"
    },
    {
     "data": {
      "image/png": "[encoded data removed]",
      "text/plain": [
       "<Figure size 432x288 with 2 Axes>"
      ]
     },
     "metadata": {
      "needs_background": "light"
     },
     "output_type": "display_data"
    }
   ],
   "source": [
    "conf_mat = confusion_matrix(label_test, predictions, labels=pipeline.classes_)\n",
    "display = ConfusionMatrixDisplay(confusion_matrix=conf_mat, display_labels=pipeline.classes_)\n",
    "display.plot();"
   ]
  },
  {
   "cell_type": "code",
   "execution_count": 89,
   "id": "66d43815",
   "metadata": {},
   "outputs": [
    {
     "name": "stdout",
     "output_type": "stream",
     "text": [
      "Samples in data_train: 126329,\n",
      "Samples in data_test: 31583,\n",
      "Samples in label_train: 126329,\n",
      "Samples in label_test: 31583\n",
      "              precision    recall  f1-score   support\n",
      "\n",
      "           0       0.90      0.55      0.68      9842\n",
      "           1       0.73      0.81      0.77     10322\n",
      "           2       0.63      0.78      0.70     11419\n",
      "\n",
      "    accuracy                           0.72     31583\n",
      "   macro avg       0.76      0.71      0.72     31583\n",
      "weighted avg       0.75      0.72      0.72     31583\n",
      "\n"
     ]
    }
   ],
   "source": [
    "data_train, label_train, data_test, label_test = get_tokens_every_gram(min_length=1, max_length=3)\n",
    "pipeline = Pipeline([\n",
    "    ('vect', CountVectorizer(analyzer=lambda x: x)), # converts strings to integer counts\n",
    "    ('tfidf', TfidfTransformer()), # converts integer counts to weighted TF-IDF scores\n",
    "    ('clf', MultinomialNB()) # train on TF-IDF vectors with Naive Bayes classifier\n",
    "])\n",
    "pipeline.fit(data_train, label_train)\n",
    "predictions = pipeline.predict(data_test)\n",
    "print(classification_report(label_test, predictions))"
   ]
  },
  {
   "cell_type": "code",
   "execution_count": 90,
   "id": "faec29c1",
   "metadata": {},
   "outputs": [
    {
     "data": {
      "text/plain": [
       "<sklearn.metrics._plot.confusion_matrix.ConfusionMatrixDisplay at 0x18caba421f0>"
      ]
     },
     "execution_count": 90,
     "metadata": {},
     "output_type": "execute_result"
    },
    {
     "data": {
      "image/png": "[encoded data removed]",
      "text/plain": [
       "<Figure size 432x288 with 2 Axes>"
      ]
     },
     "metadata": {
      "needs_background": "light"
     },
     "output_type": "display_data"
    }
   ],
   "source": [
    "conf_mat = confusion_matrix(label_test, predictions, labels=pipeline.classes_)\n",
    "display = ConfusionMatrixDisplay(confusion_matrix=conf_mat, display_labels=pipeline.classes_)\n",
    "display.plot();"
   ]
  },
  {
   "cell_type": "code",
   "execution_count": null,
   "id": "74865940",
   "metadata": {},
   "outputs": [],
   "source": []
  }
 ],
 "metadata": {
  "kernelspec": {
   "display_name": "Python 3 (ipykernel)",
   "language": "python",
   "name": "python3"
  },
  "language_info": {
   "codemirror_mode": {
    "name": "ipython",
    "version": 3
   },
   "file_extension": ".py",
   "mimetype": "text/x-python",
   "name": "python",
   "nbconvert_exporter": "python",
   "pygments_lexer": "ipython3",
   "version": "3.8.8"
  }
 },
 "nbformat": 4,
 "nbformat_minor": 5
}
