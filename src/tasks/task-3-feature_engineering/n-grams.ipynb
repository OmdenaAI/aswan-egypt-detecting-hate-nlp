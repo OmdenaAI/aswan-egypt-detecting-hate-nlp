{
 "cells": [
  {
   "cell_type": "markdown",
   "id": "4e934761",
   "metadata": {},
   "source": [
    "# N-grams\n",
    "---\n",
    "An N-Gram is a connected string of N items from a sample of text or speech. The N-Gram could be comprised of large blocks of words, or smaller sets of syllables. N-Grams are used as the basis for functioning N-Gram models, which are instrumental in natural language processing as a way of predicting upcoming text or speech.\n",
    "![N-gram example](./images/n-gram.jpg)\n",
    "\n",
    "## Supporting articles\n",
    "- [What are n-grams?](https://www.educative.io/answers/what-are-n-grams) \n",
    "- [Implement N-Grams using Python NLTK – A Step-By-Step Guide](https://www.askpython.com/python/examples/n-grams-python-nltk)"
   ]
  },
  {
   "cell_type": "code",
   "execution_count": 1,
   "id": "5afb0ca1",
   "metadata": {},
   "outputs": [],
   "source": [
    "import pandas as pd\n",
    "from nltk import ngrams"
   ]
  },
  {
   "cell_type": "code",
   "execution_count": 2,
   "id": "74e2c435",
   "metadata": {},
   "outputs": [],
   "source": [
    "corpora = pd.read_csv('../../data/english/clean-datasets/combine dataset of measuring hate speech, hate speech offensive, Twitter Tweets Sentiment/clean combined dataset.csv')"
   ]
  },
  {
   "cell_type": "code",
   "execution_count": 3,
   "id": "cc084c29",
   "metadata": {},
   "outputs": [
    {
     "name": "stdout",
     "output_type": "stream",
     "text": [
      "<class 'pandas.core.frame.DataFrame'>\n",
      "RangeIndex: 64598 entries, 0 to 64597\n",
      "Data columns (total 4 columns):\n",
      " #   Column                   Non-Null Count  Dtype  \n",
      "---  ------                   --------------  -----  \n",
      " 0   raw sentence             64598 non-null  object \n",
      " 1   clean sentence training  62756 non-null  object \n",
      " 2   label                    62787 non-null  float64\n",
      " 3   clean sentence EDA       62787 non-null  object \n",
      "dtypes: float64(1), object(3)\n",
      "memory usage: 2.0+ MB\n"
     ]
    }
   ],
   "source": [
    "corpora.info()"
   ]
  }
 ],
 "metadata": {
  "kernelspec": {
   "display_name": "Python 3 (ipykernel)",
   "language": "python",
   "name": "python3"
  },
  "language_info": {
   "codemirror_mode": {
    "name": "ipython",
    "version": 3
   },
   "file_extension": ".py",
   "mimetype": "text/x-python",
   "name": "python",
   "nbconvert_exporter": "python",
   "pygments_lexer": "ipython3",
   "version": "3.8.8"
  }
 },
 "nbformat": 4,
 "nbformat_minor": 5
}
